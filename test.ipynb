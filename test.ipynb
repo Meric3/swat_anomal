{
 "cells": [
  {
   "cell_type": "code",
   "execution_count": 170,
   "metadata": {
    "ExecuteTime": {
     "end_time": "2019-03-11T10:36:02.206261Z",
     "start_time": "2019-03-11T10:36:02.173382Z"
    },
    "scrolled": true
   },
   "outputs": [
    {
     "name": "stdout",
     "output_type": "stream",
     "text": [
      "The autoreload extension is already loaded. To reload it, use:\n",
      "  %reload_ext autoreload\n",
      "tensor([0.0819, 0.4911])\n",
      "777 is 0.0819, 0.4911\n"
     ]
    }
   ],
   "source": [
    "%load_ext autoreload\n",
    "%autoreload 2\n",
    "import utils.dataset as dataset\n",
    "import utils.preprocessing as preprocessing\n",
    "from utils.logger import Logger\n",
    "import lstm.model as model\n",
    "import utils.postprocessing as postprocessing\n",
    "import pandas as pd\n",
    "from sklearn import metrics\n",
    "from numpy import linalg as LA\n",
    "import numpy as np\n",
    "import logging\n",
    "import argparse\n",
    "\n",
    "\n",
    "from astropy.convolution import Gaussian1DKernel, convolve\n",
    "\n",
    "import torch\n",
    "import torch.nn as nn\n",
    "from pathlib import Path\n",
    "from torch.autograd import Variable\n",
    "\n",
    "np.random.seed(777)\n",
    "torch.manual_seed(777)\n",
    "torch.cuda.manual_seed_all(777)\n",
    "\n",
    "print(torch.rand(2))\n",
    "print(\"777 is {}, {}\".format(0.0819, 0.4911))"
   ]
  },
  {
   "cell_type": "code",
   "execution_count": 34,
   "metadata": {
    "ExecuteTime": {
     "end_time": "2019-03-11T01:59:41.169029Z",
     "start_time": "2019-03-11T01:59:41.145122Z"
    }
   },
   "outputs": [],
   "source": [
    "import torch\n",
    "import torch.nn as nn\n",
    "from pathlib import Path\n",
    "from torch.autograd import Variable"
   ]
  },
  {
   "cell_type": "code",
   "execution_count": 28,
   "metadata": {
    "ExecuteTime": {
     "end_time": "2019-03-11T01:51:13.294635Z",
     "start_time": "2019-03-11T01:51:06.592762Z"
    }
   },
   "outputs": [
    {
     "name": "stdout",
     "output_type": "stream",
     "text": [
      "In train : {'Normal': 496800}\n",
      "In test : {'Attack': 54621, 'Normal': 395298}\n"
     ]
    }
   ],
   "source": [
    "train_path= '../../DATA/SWaT/SWaT_Physical/SWaT_Dataset_Normal_v0.csv'\n",
    "test_path = '../../DATA/SWaT/SWaT_Physical/SWaT_Dataset_Attack_v0.csv'\n",
    "\n",
    "train_x, test_x, test_y = dataset.dataset(train_path = train_path, test_path = test_path)"
   ]
  },
  {
   "cell_type": "markdown",
   "metadata": {
    "heading_collapsed": true
   },
   "source": [
    "# SVM"
   ]
  },
  {
   "cell_type": "code",
   "execution_count": 27,
   "metadata": {
    "ExecuteTime": {
     "end_time": "2019-02-28T06:02:06.675695Z",
     "start_time": "2019-02-28T06:02:06.658312Z"
    },
    "hidden": true
   },
   "outputs": [],
   "source": [
    "from sklearn import svm"
   ]
  },
  {
   "cell_type": "code",
   "execution_count": 52,
   "metadata": {
    "ExecuteTime": {
     "end_time": "2019-02-28T06:35:42.764950Z",
     "start_time": "2019-02-28T06:35:42.717765Z"
    },
    "hidden": true
   },
   "outputs": [
    {
     "name": "stdout",
     "output_type": "stream",
     "text": [
      "[LibSVM]predict 빈도: {-1: 4842, 1: 5158}\n"
     ]
    }
   ],
   "source": [
    "# comp_num = 45\n",
    "clf = svm.OneClassSVM(nu=0.001, kernel=\"rbf\", gamma=0.0001, verbose=True)\n",
    "clf.fit(train_x[0:20000,0:2])\n",
    "preds = clf.predict(test_x[5000:15000, 0:2]) \n",
    "unique, counts = np.unique(preds, return_counts=True)\n",
    "print('predict 빈도:', dict(zip(unique, counts)))"
   ]
  },
  {
   "cell_type": "code",
   "execution_count": 46,
   "metadata": {
    "ExecuteTime": {
     "end_time": "2019-02-28T06:10:27.161686Z",
     "start_time": "2019-02-28T06:10:27.112893Z"
    },
    "hidden": true
   },
   "outputs": [
    {
     "name": "stdout",
     "output_type": "stream",
     "text": [
      "[LibSVM]predict 빈도: {-1: 2390, 1: 7610}\n"
     ]
    }
   ],
   "source": [
    "# comp_num = 45\n",
    "clf = svm.OneClassSVM(nu=0.001, kernel=\"rbf\", gamma=0.0001, verbose=True)\n",
    "clf.fit(train_x[0:20000,0:4])\n",
    "preds = clf.predict(test_x[5000:15000, 0:4]) \n",
    "unique, counts = np.unique(preds, return_counts=True)\n",
    "print('predict 빈도:', dict(zip(unique, counts)))"
   ]
  },
  {
   "cell_type": "code",
   "execution_count": 43,
   "metadata": {
    "ExecuteTime": {
     "end_time": "2019-02-28T06:10:00.668563Z",
     "start_time": "2019-02-28T06:10:00.628819Z"
    },
    "hidden": true
   },
   "outputs": [
    {
     "name": "stdout",
     "output_type": "stream",
     "text": [
      "[LibSVM]predict 빈도: {-1: 4842, 1: 5158}\n"
     ]
    }
   ],
   "source": [
    "# comp_num = 2\n",
    "clf = svm.OneClassSVM(nu=0.001, kernel=\"rbf\", gamma=0.0001, verbose=True)\n",
    "clf.fit(train_x[0:20000,:])\n",
    "preds = clf.predict(test_x[5000:15000, :]) \n",
    "unique, counts = np.unique(preds, return_counts=True)\n",
    "print('predict 빈도:', dict(zip(unique, counts)))"
   ]
  },
  {
   "cell_type": "markdown",
   "metadata": {},
   "source": [
    "# LSTM"
   ]
  },
  {
   "cell_type": "markdown",
   "metadata": {
    "heading_collapsed": true
   },
   "source": [
    "## model"
   ]
  },
  {
   "cell_type": "code",
   "execution_count": 5,
   "metadata": {
    "ExecuteTime": {
     "end_time": "2019-03-10T05:04:33.683604Z",
     "start_time": "2019-03-10T05:04:33.654325Z"
    },
    "hidden": true
   },
   "outputs": [],
   "source": [
    "class ENCODER(nn.Module):\n",
    "\n",
    "    def __init__(self,args):\n",
    "        super(ENCODER, self).__init__()\n",
    "        self.args = args\n",
    "        self.drop = nn.Dropout(args['dropout'])\n",
    "        self.linear = nn.Linear(args['hidden_size'], args['data_dim'])\n",
    "\n",
    "        if args['cell_type'] in ['LSTM', 'GRU']:\n",
    "            self.rnn = getattr(nn, args['cell_type'])(args['rnn_inp_size'], args['hidden_size'], args['nlayers'], dropout=args['dropout'])\n",
    "\n",
    "    def init_weights(self):\n",
    "        initrange = 0.1\n",
    "        self.linear.weight.data.uniform_(-initrange, initrange)\n",
    "        self.linear.bias.data.fill_(0)\n",
    "\n",
    "    def forward(self, input, hidden, return_hiddens=False, noise=False):\n",
    "        output, hidden = self.rnn(input, hidden)\n",
    "        output = self.linear(output.contiguous().view(-1,self.args['hidden_size']))\n",
    "        output = output.contiguous().view(input.size()[0], -1, self.args['rnn_inp_size'])\n",
    "        return output, hidden\n",
    "\n",
    "    def init_hidden(self, bsz):\n",
    "        weight = next(self.parameters()).data ############# 이게 무엇\n",
    "        if self.args['cell_type'] == 'LSTM':\n",
    "            return (Variable(weight.new(self.args['nlayers'], bsz, self.args['hidden_size']).zero_()),\n",
    "                    Variable(weight.new(self.args['nlayers'], bsz, self.args['hidden_size']).zero_()))\n",
    "\n",
    "    def repackage_hidden(self,h):\n",
    "        \"\"\"Wraps hidden states in new Variables, to detach them from their history.\"\"\"\n",
    "        if type(h) == tuple:\n",
    "            return tuple(self.repackage_hidden(v) for v in h)\n",
    "        else:\n",
    "            return Variable(h.data)\n",
    "\n",
    "    def extract_hidden(self, hidden):\n",
    "        if self.args['cell_type'] == 'LSTM':\n",
    "            return hidden[0][-1].data.cpu()  # hidden state last layer (hidden[1] is cell state)\n",
    "        else:\n",
    "            return hidden[-1].data.cpu()  # last layer\n",
    "\n",
    "        \n",
    "class DECODER(nn.Module):\n",
    "\n",
    "    def __init__(self,args):\n",
    "        super(DECODER, self).__init__()\n",
    "        self.args = args\n",
    "        self.drop = nn.Dropout(args['dropout'])\n",
    "        self.linear = nn.Linear(args['hidden_size'], args['data_dim'])\n",
    "\n",
    "        if args['cell_type'] in ['LSTM', 'GRU']:\n",
    "            self.rnn = getattr(nn, args['cell_type'])(args['rnn_inp_size'], args['hidden_size'], args['nlayers'], dropout=args['dropout'])\n",
    "\n",
    "\n",
    "    def init_weights(self):\n",
    "        initrange = 0.1\n",
    "        self.linear.weight.data.uniform_(-initrange, initrange)\n",
    "        self.linear.bias.data.fill_(0)\n",
    "        \n",
    "    def forward(self, input, hidden, return_hiddens=False, noise=False):\n",
    "        \n",
    "        output, hidden = self.rnn(input, hidden)\n",
    "        output = self.linear(output.contiguous().view(-1,self.args['hidden_size']))\n",
    "        output = output.contiguous().view(input.size()[0], -1, self.args['rnn_inp_size'])\n",
    "\n",
    "        return output, hidden\n",
    "\n",
    "\n",
    "\n",
    "\n",
    "    def init_hidden(self, bsz):\n",
    "        weight = next(self.parameters()).data ############# 이게 무엇\n",
    "        if self.args['cell_type'] == 'LSTM':\n",
    "            return (Variable(weight.new(self.args['nlayers'], bsz, self.args['hidden_size']).zero_()),\n",
    "                    Variable(weight.new(self.args['nlayers'], bsz, self.args['hidden_size']).zero_()))\n",
    "\n",
    "    def repackage_hidden(self,h):\n",
    "        \"\"\"Wraps hidden states in new Variables, to detach them from their history.\"\"\"\n",
    "        if type(h) == tuple:\n",
    "            return tuple(self.repackage_hidden(v) for v in h)\n",
    "        else:\n",
    "            return Variable(h.data)\n",
    "\n",
    "    def extract_hidden(self, hidden):\n",
    "        if self.args['cell_type'] == 'LSTM':\n",
    "            return hidden[0][-1].data.cpu()  # hidden state last layer (hidden[1] is cell state)\n",
    "        else:\n",
    "            return hidden[-1].data.cpu()  # last layer"
   ]
  },
  {
   "cell_type": "markdown",
   "metadata": {},
   "source": [
    "## solver"
   ]
  },
  {
   "cell_type": "code",
   "execution_count": 136,
   "metadata": {
    "ExecuteTime": {
     "end_time": "2019-03-11T10:07:43.143832Z",
     "start_time": "2019-03-11T10:07:43.119895Z"
    }
   },
   "outputs": [],
   "source": [
    "check_step = 100\n",
    "endPoint = 449916\n"
   ]
  },
  {
   "cell_type": "code",
   "execution_count": 150,
   "metadata": {
    "ExecuteTime": {
     "end_time": "2019-03-11T10:21:25.472176Z",
     "start_time": "2019-03-11T10:21:25.448478Z"
    }
   },
   "outputs": [
    {
     "data": {
      "text/plain": [
       "array([0.01908201, 0.01776421, 0.01737914, ..., 0.01660304, 0.01747271,\n",
       "       0.01548675], dtype=float32)"
      ]
     },
     "execution_count": 150,
     "metadata": {},
     "output_type": "execute_result"
    }
   ],
   "source": [
    "solver.anomal_score"
   ]
  },
  {
   "cell_type": "code",
   "execution_count": 151,
   "metadata": {
    "ExecuteTime": {
     "end_time": "2019-03-11T10:21:33.908834Z",
     "start_time": "2019-03-11T10:21:33.889882Z"
    }
   },
   "outputs": [
    {
     "name": "stdout",
     "output_type": "stream",
     "text": [
      "0\n",
      "10\n",
      "20\n",
      "30\n",
      "40\n"
     ]
    }
   ],
   "source": [
    "for conv in range(0, 50, 10):\n",
    "    print(conv)"
   ]
  },
  {
   "cell_type": "code",
   "execution_count": 154,
   "metadata": {
    "ExecuteTime": {
     "end_time": "2019-03-11T10:24:52.660267Z",
     "start_time": "2019-03-11T10:24:47.127370Z"
    }
   },
   "outputs": [
    {
     "name": "stdout",
     "output_type": "stream",
     "text": [
      "epoch[0]\t precision[0.9245685161589251]\t recall[0.7306530455319382]\t f1[0.8162518151882684] \t find attack [17]\n"
     ]
    }
   ],
   "source": [
    "max_f1 = 0\n",
    "\n",
    "anomal_score = LA.norm(anomal_score, axis=1)\n",
    "\n",
    "for conv in range(0, 100, 10):\n",
    "    if conv != 0:\n",
    "        gauss_kernel = Gaussian1DKernel(conv)\n",
    "        norm = convolve(anomal_score, gauss_kernel)\n",
    "    else:\n",
    "        norm = anomal_score\n",
    "\n",
    "    precision, recall, thresholds = metrics.precision_recall_curve(  test_y[:449916].cpu().numpy(), norm ,pos_label =1)\n",
    "\n",
    "    beta = 1\n",
    "    f1 = (1+beta**2)*(precision*recall)/((beta**2*precision)+recall)\n",
    "    f1 = np.nan_to_num(f1)\n",
    "\n",
    "    max_pre_tp = precision[np.argmax(f1)]\n",
    "    max_recall_tp = recall[np.argmax(f1)]\n",
    "    max_f1_tp = f1[np.argmax(f1)]\n",
    "\n",
    "    attack_list_acc = []\n",
    "    anomaly = (norm > thresholds[np.argmax(f1)] )\n",
    "    for idxx in range(0, len(attack_list)):\n",
    "        k, t = np.unique(anomaly[attack_list['Start Time'][idxx]:attack_list['End Time'][idxx]], return_counts=True)\n",
    "        if t.shape[0] > 1:\n",
    "            attack_list_acc.append(t[1]/(t[0] + t[1]))\n",
    "        elif k == 1:\n",
    "            attack_list_acc.append(1.0)\n",
    "        elif k == 0:\n",
    "            attack_list_acc.append(0.0)\n",
    "        else:\n",
    "            print(\"faral error in evaluation\")\n",
    "\n",
    "    zerolist = 0\n",
    "    for k in range(len(attack_list_acc)):\n",
    "        if attack_list_acc[k] == 0.0:\n",
    "            zerolist = zerolist + 1  \n",
    "            \n",
    "    if max_f1 < max_f1_tp:\n",
    "        max_pre = max_pre_tp\n",
    "        max_recall = max_recall_tp\n",
    "        max_f1 = max_f1_tp\n",
    "        max_zerolist = zerolist\n",
    "        max_conv = conv\n",
    "\n",
    "print(\"conv[{}]\\t precision[{}]\\t recall[{}]\\t f1[{}] \\t find attack [{}]\".format(max_conv, max_pre, max_recall, max_f1, 36 - max_zerolist))"
   ]
  },
  {
   "cell_type": "code",
   "execution_count": 142,
   "metadata": {
    "ExecuteTime": {
     "end_time": "2019-03-11T10:13:52.061862Z",
     "start_time": "2019-03-11T10:13:52.036392Z"
    }
   },
   "outputs": [
    {
     "data": {
      "text/plain": [
       "0.034600586"
      ]
     },
     "execution_count": 142,
     "metadata": {},
     "output_type": "execute_result"
    }
   ],
   "source": [
    "thresholds[np.argmax(f1)]"
   ]
  },
  {
   "cell_type": "code",
   "execution_count": 144,
   "metadata": {
    "ExecuteTime": {
     "end_time": "2019-03-11T10:14:39.914137Z",
     "start_time": "2019-03-11T10:14:39.864357Z"
    },
    "collapsed": true
   },
   "outputs": [
    {
     "data": {
      "text/html": [
       "<div>\n",
       "<style scoped>\n",
       "    .dataframe tbody tr th:only-of-type {\n",
       "        vertical-align: middle;\n",
       "    }\n",
       "\n",
       "    .dataframe tbody tr th {\n",
       "        vertical-align: top;\n",
       "    }\n",
       "\n",
       "    .dataframe thead th {\n",
       "        text-align: right;\n",
       "    }\n",
       "</style>\n",
       "<table border=\"1\" class=\"dataframe\">\n",
       "  <thead>\n",
       "    <tr style=\"text-align: right;\">\n",
       "      <th></th>\n",
       "      <th>Attack number</th>\n",
       "      <th>Start Time</th>\n",
       "      <th>End Time</th>\n",
       "      <th>Attack Point</th>\n",
       "      <th>Start State</th>\n",
       "      <th>Attack</th>\n",
       "      <th>Actual Change</th>\n",
       "      <th>Expected Impact or attacker intent</th>\n",
       "      <th>pointattack_SS_SM_MS_MM</th>\n",
       "    </tr>\n",
       "  </thead>\n",
       "  <tbody>\n",
       "    <tr>\n",
       "      <th>0</th>\n",
       "      <td>1</td>\n",
       "      <td>1754</td>\n",
       "      <td>2694</td>\n",
       "      <td>MV-101</td>\n",
       "      <td>MV-101 is closed</td>\n",
       "      <td>Open MV-101</td>\n",
       "      <td>Yes</td>\n",
       "      <td>Tank overflow</td>\n",
       "      <td>SS</td>\n",
       "    </tr>\n",
       "    <tr>\n",
       "      <th>1</th>\n",
       "      <td>2</td>\n",
       "      <td>3068</td>\n",
       "      <td>3511</td>\n",
       "      <td>P-102</td>\n",
       "      <td>P-101 is on where as P-102 is off</td>\n",
       "      <td>Turn on P-102</td>\n",
       "      <td>Yes</td>\n",
       "      <td>Pipe bursts</td>\n",
       "      <td>SS</td>\n",
       "    </tr>\n",
       "    <tr>\n",
       "      <th>2</th>\n",
       "      <td>3</td>\n",
       "      <td>4920</td>\n",
       "      <td>5303</td>\n",
       "      <td>LIT-101</td>\n",
       "      <td>Water level between L and H</td>\n",
       "      <td>Increase by 1 mm every second</td>\n",
       "      <td>No</td>\n",
       "      <td>Tank Underflow; Damage P-101</td>\n",
       "      <td>SS</td>\n",
       "    </tr>\n",
       "    <tr>\n",
       "      <th>3</th>\n",
       "      <td>4</td>\n",
       "      <td>6459</td>\n",
       "      <td>6849</td>\n",
       "      <td>MV-504</td>\n",
       "      <td>MV-504 is closed</td>\n",
       "      <td>Open MV-504</td>\n",
       "      <td>Yes</td>\n",
       "      <td>Halt RO shut down sequence; Reduce life of RO</td>\n",
       "      <td>SS</td>\n",
       "    </tr>\n",
       "    <tr>\n",
       "      <th>4</th>\n",
       "      <td>6</td>\n",
       "      <td>7255</td>\n",
       "      <td>7451</td>\n",
       "      <td>AIT-202</td>\n",
       "      <td>Value of AIT-202 is &gt;7.05</td>\n",
       "      <td>Set value of AIT-202  as 6</td>\n",
       "      <td>No</td>\n",
       "      <td>P-203 turns off; Change in water quality</td>\n",
       "      <td>SS</td>\n",
       "    </tr>\n",
       "    <tr>\n",
       "      <th>5</th>\n",
       "      <td>7</td>\n",
       "      <td>7705</td>\n",
       "      <td>8134</td>\n",
       "      <td>LIT-301</td>\n",
       "      <td>Water level between L and H</td>\n",
       "      <td>Water level increased above HH</td>\n",
       "      <td>No</td>\n",
       "      <td>Stop of inflow; Tank underflow; Damage P-301</td>\n",
       "      <td>SS</td>\n",
       "    </tr>\n",
       "    <tr>\n",
       "      <th>6</th>\n",
       "      <td>8</td>\n",
       "      <td>11410</td>\n",
       "      <td>12374</td>\n",
       "      <td>DPIT-301</td>\n",
       "      <td>Value of DPIT is &lt;40kpa</td>\n",
       "      <td>Set value of DPIT as &gt;40kpa</td>\n",
       "      <td>No</td>\n",
       "      <td>Backwash process is started again and again; N...</td>\n",
       "      <td>SS</td>\n",
       "    </tr>\n",
       "    <tr>\n",
       "      <th>7</th>\n",
       "      <td>10</td>\n",
       "      <td>15380</td>\n",
       "      <td>15540</td>\n",
       "      <td>FIT-401</td>\n",
       "      <td>Value of FIT-401 above 1</td>\n",
       "      <td>Set value of FIT-401 as &lt;0.7</td>\n",
       "      <td>No</td>\n",
       "      <td>UV shutdown; P-501 turns off;</td>\n",
       "      <td>SS</td>\n",
       "    </tr>\n",
       "    <tr>\n",
       "      <th>8</th>\n",
       "      <td>11</td>\n",
       "      <td>15541</td>\n",
       "      <td>16101</td>\n",
       "      <td>FIT-401</td>\n",
       "      <td>Value of FIT-401 above 1</td>\n",
       "      <td>Set value of FIT-401 as 0</td>\n",
       "      <td>No</td>\n",
       "      <td>UV shutdown; P-501 turns off;</td>\n",
       "      <td>SS</td>\n",
       "    </tr>\n",
       "    <tr>\n",
       "      <th>9</th>\n",
       "      <td>13</td>\n",
       "      <td>73800</td>\n",
       "      <td>74521</td>\n",
       "      <td>MV-304</td>\n",
       "      <td>MV-304 is open</td>\n",
       "      <td>Close MV-304</td>\n",
       "      <td>Yes</td>\n",
       "      <td>Halt of stage 3 because change in the backwash...</td>\n",
       "      <td>SS</td>\n",
       "    </tr>\n",
       "    <tr>\n",
       "      <th>10</th>\n",
       "      <td>14</td>\n",
       "      <td>90685</td>\n",
       "      <td>90918</td>\n",
       "      <td>Mv-303</td>\n",
       "      <td>MV-303 is closed</td>\n",
       "      <td>Do not let MV-303 open</td>\n",
       "      <td>Yes</td>\n",
       "      <td>Halt of stage 3 because change in the backwash...</td>\n",
       "      <td>SS</td>\n",
       "    </tr>\n",
       "    <tr>\n",
       "      <th>11</th>\n",
       "      <td>16</td>\n",
       "      <td>92140</td>\n",
       "      <td>92571</td>\n",
       "      <td>LIT-301</td>\n",
       "      <td>Water level between L and H</td>\n",
       "      <td>Decrease water level by 1mm each second</td>\n",
       "      <td>No</td>\n",
       "      <td>Tank Overflow</td>\n",
       "      <td>SS</td>\n",
       "    </tr>\n",
       "    <tr>\n",
       "      <th>12</th>\n",
       "      <td>17</td>\n",
       "      <td>93445</td>\n",
       "      <td>93721</td>\n",
       "      <td>MV-303</td>\n",
       "      <td>Closed</td>\n",
       "      <td>Do not let MV-303 open</td>\n",
       "      <td>Yes</td>\n",
       "      <td>Halt of stage 3 because change in the backwash...</td>\n",
       "      <td>SS</td>\n",
       "    </tr>\n",
       "    <tr>\n",
       "      <th>13</th>\n",
       "      <td>19</td>\n",
       "      <td>103092</td>\n",
       "      <td>103809</td>\n",
       "      <td>AIT-504</td>\n",
       "      <td>Value of AIT-504 &lt;15 uS/cm</td>\n",
       "      <td>Set value of AIT-504 to 16 uS/cm</td>\n",
       "      <td>No</td>\n",
       "      <td>RO shut down sequence starts after 30 minutes....</td>\n",
       "      <td>SS</td>\n",
       "    </tr>\n",
       "    <tr>\n",
       "      <th>14</th>\n",
       "      <td>20</td>\n",
       "      <td>115843</td>\n",
       "      <td>116102</td>\n",
       "      <td>AIT-504</td>\n",
       "      <td>Value of AIT-504 &lt;15 uS/cm</td>\n",
       "      <td>Set value of AIT-504 to 255 uS/cm</td>\n",
       "      <td>No</td>\n",
       "      <td>RO shut down sequence starts after 30 minutes....</td>\n",
       "      <td>SS</td>\n",
       "    </tr>\n",
       "    <tr>\n",
       "      <th>15</th>\n",
       "      <td>21</td>\n",
       "      <td>116143</td>\n",
       "      <td>116538</td>\n",
       "      <td>MV-101, LIT-101</td>\n",
       "      <td>MV-101 is open; LIT-101 between L and H</td>\n",
       "      <td>Keep MV-101 on countinuosly; Value of LIT-101 ...</td>\n",
       "      <td>Yes</td>\n",
       "      <td>Tank overflow</td>\n",
       "      <td>SM</td>\n",
       "    </tr>\n",
       "    <tr>\n",
       "      <th>16</th>\n",
       "      <td>22</td>\n",
       "      <td>117000</td>\n",
       "      <td>117721</td>\n",
       "      <td>UV-401, AIT-502, P-501</td>\n",
       "      <td>UV-01 is on; AIT-502 is &lt;150; P-501 is open</td>\n",
       "      <td>Stop UV-401; Value of AIT502 set as 150; Force...</td>\n",
       "      <td>Yes</td>\n",
       "      <td>Possible damage to RO</td>\n",
       "      <td>MM</td>\n",
       "    </tr>\n",
       "    <tr>\n",
       "      <th>17</th>\n",
       "      <td>23</td>\n",
       "      <td>132918</td>\n",
       "      <td>133381</td>\n",
       "      <td>P-602, DIT-301, MV-302</td>\n",
       "      <td>DPIT-301 is &lt;0.4 bar; MV-302 is on; P-602 is c...</td>\n",
       "      <td>Value of DPIT-301 set to &gt;0.4 bar; Keep MV-302...</td>\n",
       "      <td>Yes</td>\n",
       "      <td>System freeze</td>\n",
       "      <td>MM</td>\n",
       "    </tr>\n",
       "    <tr>\n",
       "      <th>18</th>\n",
       "      <td>24</td>\n",
       "      <td>142954</td>\n",
       "      <td>143651</td>\n",
       "      <td>P-203, P-205</td>\n",
       "      <td>P-203 is on; P-205 is on</td>\n",
       "      <td>Turn of P-203 and P-205</td>\n",
       "      <td>Yes</td>\n",
       "      <td>Change in water quality</td>\n",
       "      <td>SM</td>\n",
       "    </tr>\n",
       "    <tr>\n",
       "      <th>19</th>\n",
       "      <td>25</td>\n",
       "      <td>172268</td>\n",
       "      <td>172589</td>\n",
       "      <td>LIT-401, P-401</td>\n",
       "      <td>Value of LIT-401 &lt;1000; P-402 is on</td>\n",
       "      <td>Set value of LIT-401 as 1000; P402 is kept on</td>\n",
       "      <td>Yes</td>\n",
       "      <td>Tank underflow</td>\n",
       "      <td>SM</td>\n",
       "    </tr>\n",
       "    <tr>\n",
       "      <th>20</th>\n",
       "      <td>26</td>\n",
       "      <td>172910</td>\n",
       "      <td>173522</td>\n",
       "      <td>P-101, LIT-301</td>\n",
       "      <td>P-101 is off; P-102 is on; LIT-301 is between ...</td>\n",
       "      <td>P-101 is turned on continuosly; Set value of L...</td>\n",
       "      <td>Yes</td>\n",
       "      <td>Tank 101 underflow; Tank 301 overflow</td>\n",
       "      <td>MS</td>\n",
       "    </tr>\n",
       "    <tr>\n",
       "      <th>21</th>\n",
       "      <td>27</td>\n",
       "      <td>198296</td>\n",
       "      <td>199741</td>\n",
       "      <td>P-302, LIT-401</td>\n",
       "      <td>P302 is on, LIT401 Is  between L and H</td>\n",
       "      <td>Keep P-302 on contineoulsy; Value of  LIT401 s...</td>\n",
       "      <td>Yes</td>\n",
       "      <td>Tank overflow</td>\n",
       "      <td>MS</td>\n",
       "    </tr>\n",
       "    <tr>\n",
       "      <th>22</th>\n",
       "      <td>28</td>\n",
       "      <td>227828</td>\n",
       "      <td>263728</td>\n",
       "      <td>P-302</td>\n",
       "      <td>P302 is on</td>\n",
       "      <td>Close P-302</td>\n",
       "      <td>Yes</td>\n",
       "      <td>Stop inflow of tank T-401</td>\n",
       "      <td>SS</td>\n",
       "    </tr>\n",
       "    <tr>\n",
       "      <th>23</th>\n",
       "      <td>29</td>\n",
       "      <td>279120</td>\n",
       "      <td>279241</td>\n",
       "      <td>P-201, P-203, P-205</td>\n",
       "      <td>P-201 is closed; P-203 is closed; P-205 is closed</td>\n",
       "      <td>Turn on P-201; Turn on P-203; Turn on P-205</td>\n",
       "      <td>Yes</td>\n",
       "      <td>Wastage of chemicals</td>\n",
       "      <td>SM</td>\n",
       "    </tr>\n",
       "    <tr>\n",
       "      <th>24</th>\n",
       "      <td>30</td>\n",
       "      <td>280060</td>\n",
       "      <td>281231</td>\n",
       "      <td>LIT-101, P-101, MV-201</td>\n",
       "      <td>P-101 is off; MV-101 is off; MV-201 is off; LI...</td>\n",
       "      <td>Turn P-101 on continuously; Turn MV-101 on con...</td>\n",
       "      <td>Yes</td>\n",
       "      <td>Tank 101 underflow; Tank 301 overflow</td>\n",
       "      <td>MM</td>\n",
       "    </tr>\n",
       "    <tr>\n",
       "      <th>25</th>\n",
       "      <td>31</td>\n",
       "      <td>302653</td>\n",
       "      <td>303020</td>\n",
       "      <td>LIT-401</td>\n",
       "      <td>Water level between L and H</td>\n",
       "      <td>Set LIT-401 to less than L</td>\n",
       "      <td>No</td>\n",
       "      <td>Tank overflow</td>\n",
       "      <td>SS</td>\n",
       "    </tr>\n",
       "    <tr>\n",
       "      <th>26</th>\n",
       "      <td>32</td>\n",
       "      <td>347679</td>\n",
       "      <td>348280</td>\n",
       "      <td>LIT-301</td>\n",
       "      <td>Water level between L and H</td>\n",
       "      <td>Set LIT-301 to above HH</td>\n",
       "      <td>No</td>\n",
       "      <td>Tank underflow; Damage P-302</td>\n",
       "      <td>SS</td>\n",
       "    </tr>\n",
       "    <tr>\n",
       "      <th>27</th>\n",
       "      <td>33</td>\n",
       "      <td>361191</td>\n",
       "      <td>361635</td>\n",
       "      <td>LIT-101</td>\n",
       "      <td>Water level between L and H</td>\n",
       "      <td>Set LIT-101 to above H</td>\n",
       "      <td>No</td>\n",
       "      <td>Tank underflow; Damage P-101</td>\n",
       "      <td>SS</td>\n",
       "    </tr>\n",
       "    <tr>\n",
       "      <th>28</th>\n",
       "      <td>34</td>\n",
       "      <td>371479</td>\n",
       "      <td>371580</td>\n",
       "      <td>P-101</td>\n",
       "      <td>P-101 is on</td>\n",
       "      <td>Turn P-101 off</td>\n",
       "      <td>Yes</td>\n",
       "      <td>Stops outflow</td>\n",
       "      <td>SS</td>\n",
       "    </tr>\n",
       "    <tr>\n",
       "      <th>29</th>\n",
       "      <td>35</td>\n",
       "      <td>371855</td>\n",
       "      <td>372336</td>\n",
       "      <td>P-101; P-102</td>\n",
       "      <td>P-101 is on; P-102 is off</td>\n",
       "      <td>Turn P-101 off; Keep P-102 off</td>\n",
       "      <td>Yes</td>\n",
       "      <td>Stops outflow</td>\n",
       "      <td>SM</td>\n",
       "    </tr>\n",
       "    <tr>\n",
       "      <th>30</th>\n",
       "      <td>36</td>\n",
       "      <td>389680</td>\n",
       "      <td>390220</td>\n",
       "      <td>LIT-101</td>\n",
       "      <td>Water level between L and H</td>\n",
       "      <td>Set LIT-101 to less than LL</td>\n",
       "      <td>No</td>\n",
       "      <td>Tank overflow</td>\n",
       "      <td>SS</td>\n",
       "    </tr>\n",
       "    <tr>\n",
       "      <th>31</th>\n",
       "      <td>37</td>\n",
       "      <td>436541</td>\n",
       "      <td>437010</td>\n",
       "      <td>P-501, FIT-502</td>\n",
       "      <td>P-501 is on; FIT-502 in normal range</td>\n",
       "      <td>Close P-501; Set value of FIT-502 to 1.29  at ...</td>\n",
       "      <td>No</td>\n",
       "      <td>Reduced output</td>\n",
       "      <td>SM</td>\n",
       "    </tr>\n",
       "    <tr>\n",
       "      <th>32</th>\n",
       "      <td>38</td>\n",
       "      <td>437417</td>\n",
       "      <td>437698</td>\n",
       "      <td>AIT-402, AIT-502</td>\n",
       "      <td>In Normal Range</td>\n",
       "      <td>Set value of AIT402 as 260; Set value of AIT50...</td>\n",
       "      <td>No</td>\n",
       "      <td>Water goes to drain because of overdosing</td>\n",
       "      <td>MS</td>\n",
       "    </tr>\n",
       "    <tr>\n",
       "      <th>33</th>\n",
       "      <td>39</td>\n",
       "      <td>438147</td>\n",
       "      <td>438548</td>\n",
       "      <td>FIT-401, AIT-502</td>\n",
       "      <td>In Normal Range</td>\n",
       "      <td>Set value of FIT-401 as 0.5; Set value of AIT-...</td>\n",
       "      <td>No</td>\n",
       "      <td>UV will shut down and water will go to RO</td>\n",
       "      <td>MS</td>\n",
       "    </tr>\n",
       "    <tr>\n",
       "      <th>34</th>\n",
       "      <td>40</td>\n",
       "      <td>438621</td>\n",
       "      <td>438918</td>\n",
       "      <td>FIT-401</td>\n",
       "      <td>In Normal Range</td>\n",
       "      <td>Set value of FIT-401 as 0</td>\n",
       "      <td>No</td>\n",
       "      <td>UV will shut down and water will go to RO</td>\n",
       "      <td>SS</td>\n",
       "    </tr>\n",
       "    <tr>\n",
       "      <th>35</th>\n",
       "      <td>41</td>\n",
       "      <td>443501</td>\n",
       "      <td>445191</td>\n",
       "      <td>LIT-301</td>\n",
       "      <td>Water level between L and H</td>\n",
       "      <td>decrease value by 0.5 mm per second</td>\n",
       "      <td>No</td>\n",
       "      <td>Tank overflow</td>\n",
       "      <td>SS</td>\n",
       "    </tr>\n",
       "  </tbody>\n",
       "</table>\n",
       "</div>"
      ],
      "text/plain": [
       "    Attack number  Start Time  End Time            Attack Point  \\\n",
       "0               1        1754      2694                  MV-101   \n",
       "1               2        3068      3511                   P-102   \n",
       "2               3        4920      5303                 LIT-101   \n",
       "3               4        6459      6849                  MV-504   \n",
       "4               6        7255      7451                 AIT-202   \n",
       "5               7        7705      8134                 LIT-301   \n",
       "6               8       11410     12374                DPIT-301   \n",
       "7              10       15380     15540                 FIT-401   \n",
       "8              11       15541     16101                 FIT-401   \n",
       "9              13       73800     74521                  MV-304   \n",
       "10             14       90685     90918                  Mv-303   \n",
       "11             16       92140     92571                 LIT-301   \n",
       "12             17       93445     93721                  MV-303   \n",
       "13             19      103092    103809                 AIT-504   \n",
       "14             20      115843    116102                 AIT-504   \n",
       "15             21      116143    116538         MV-101, LIT-101   \n",
       "16             22      117000    117721  UV-401, AIT-502, P-501   \n",
       "17             23      132918    133381  P-602, DIT-301, MV-302   \n",
       "18             24      142954    143651            P-203, P-205   \n",
       "19             25      172268    172589          LIT-401, P-401   \n",
       "20             26      172910    173522          P-101, LIT-301   \n",
       "21             27      198296    199741          P-302, LIT-401   \n",
       "22             28      227828    263728                   P-302   \n",
       "23             29      279120    279241     P-201, P-203, P-205   \n",
       "24             30      280060    281231  LIT-101, P-101, MV-201   \n",
       "25             31      302653    303020                 LIT-401   \n",
       "26             32      347679    348280                 LIT-301   \n",
       "27             33      361191    361635                 LIT-101   \n",
       "28             34      371479    371580                   P-101   \n",
       "29             35      371855    372336            P-101; P-102   \n",
       "30             36      389680    390220                 LIT-101   \n",
       "31             37      436541    437010          P-501, FIT-502   \n",
       "32             38      437417    437698        AIT-402, AIT-502   \n",
       "33             39      438147    438548        FIT-401, AIT-502   \n",
       "34             40      438621    438918                 FIT-401   \n",
       "35             41      443501    445191                 LIT-301   \n",
       "\n",
       "                                          Start State  \\\n",
       "0                                    MV-101 is closed   \n",
       "1                   P-101 is on where as P-102 is off   \n",
       "2                         Water level between L and H   \n",
       "3                                    MV-504 is closed   \n",
       "4                           Value of AIT-202 is >7.05   \n",
       "5                         Water level between L and H   \n",
       "6                             Value of DPIT is <40kpa   \n",
       "7                            Value of FIT-401 above 1   \n",
       "8                            Value of FIT-401 above 1   \n",
       "9                                      MV-304 is open   \n",
       "10                                   MV-303 is closed   \n",
       "11                        Water level between L and H   \n",
       "12                                             Closed   \n",
       "13                         Value of AIT-504 <15 uS/cm   \n",
       "14                         Value of AIT-504 <15 uS/cm   \n",
       "15            MV-101 is open; LIT-101 between L and H   \n",
       "16        UV-01 is on; AIT-502 is <150; P-501 is open   \n",
       "17  DPIT-301 is <0.4 bar; MV-302 is on; P-602 is c...   \n",
       "18                           P-203 is on; P-205 is on   \n",
       "19                Value of LIT-401 <1000; P-402 is on   \n",
       "20  P-101 is off; P-102 is on; LIT-301 is between ...   \n",
       "21             P302 is on, LIT401 Is  between L and H   \n",
       "22                                         P302 is on   \n",
       "23  P-201 is closed; P-203 is closed; P-205 is closed   \n",
       "24  P-101 is off; MV-101 is off; MV-201 is off; LI...   \n",
       "25                        Water level between L and H   \n",
       "26                        Water level between L and H   \n",
       "27                        Water level between L and H   \n",
       "28                                        P-101 is on   \n",
       "29                          P-101 is on; P-102 is off   \n",
       "30                        Water level between L and H   \n",
       "31               P-501 is on; FIT-502 in normal range   \n",
       "32                                    In Normal Range   \n",
       "33                                    In Normal Range   \n",
       "34                                    In Normal Range   \n",
       "35                        Water level between L and H   \n",
       "\n",
       "                                               Attack Actual Change  \\\n",
       "0                                         Open MV-101           Yes   \n",
       "1                                       Turn on P-102           Yes   \n",
       "2                       Increase by 1 mm every second            No   \n",
       "3                                         Open MV-504           Yes   \n",
       "4                          Set value of AIT-202  as 6            No   \n",
       "5                      Water level increased above HH            No   \n",
       "6                         Set value of DPIT as >40kpa            No   \n",
       "7                        Set value of FIT-401 as <0.7            No   \n",
       "8                           Set value of FIT-401 as 0            No   \n",
       "9                                        Close MV-304           Yes   \n",
       "10                             Do not let MV-303 open           Yes   \n",
       "11            Decrease water level by 1mm each second            No   \n",
       "12                             Do not let MV-303 open           Yes   \n",
       "13                   Set value of AIT-504 to 16 uS/cm            No   \n",
       "14                  Set value of AIT-504 to 255 uS/cm            No   \n",
       "15  Keep MV-101 on countinuosly; Value of LIT-101 ...           Yes   \n",
       "16  Stop UV-401; Value of AIT502 set as 150; Force...           Yes   \n",
       "17  Value of DPIT-301 set to >0.4 bar; Keep MV-302...           Yes   \n",
       "18                            Turn of P-203 and P-205           Yes   \n",
       "19      Set value of LIT-401 as 1000; P402 is kept on           Yes   \n",
       "20  P-101 is turned on continuosly; Set value of L...           Yes   \n",
       "21  Keep P-302 on contineoulsy; Value of  LIT401 s...           Yes   \n",
       "22                                        Close P-302           Yes   \n",
       "23        Turn on P-201; Turn on P-203; Turn on P-205           Yes   \n",
       "24  Turn P-101 on continuously; Turn MV-101 on con...           Yes   \n",
       "25                         Set LIT-401 to less than L            No   \n",
       "26                            Set LIT-301 to above HH            No   \n",
       "27                             Set LIT-101 to above H            No   \n",
       "28                                     Turn P-101 off           Yes   \n",
       "29                     Turn P-101 off; Keep P-102 off           Yes   \n",
       "30                        Set LIT-101 to less than LL            No   \n",
       "31  Close P-501; Set value of FIT-502 to 1.29  at ...            No   \n",
       "32  Set value of AIT402 as 260; Set value of AIT50...            No   \n",
       "33  Set value of FIT-401 as 0.5; Set value of AIT-...            No   \n",
       "34                          Set value of FIT-401 as 0            No   \n",
       "35                decrease value by 0.5 mm per second            No   \n",
       "\n",
       "                   Expected Impact or attacker intent pointattack_SS_SM_MS_MM  \n",
       "0                                       Tank overflow                      SS  \n",
       "1                                         Pipe bursts                      SS  \n",
       "2                        Tank Underflow; Damage P-101                      SS  \n",
       "3       Halt RO shut down sequence; Reduce life of RO                      SS  \n",
       "4            P-203 turns off; Change in water quality                      SS  \n",
       "5        Stop of inflow; Tank underflow; Damage P-301                      SS  \n",
       "6   Backwash process is started again and again; N...                      SS  \n",
       "7                      UV shutdown; P-501 turns off;                       SS  \n",
       "8                      UV shutdown; P-501 turns off;                       SS  \n",
       "9   Halt of stage 3 because change in the backwash...                      SS  \n",
       "10  Halt of stage 3 because change in the backwash...                      SS  \n",
       "11                                      Tank Overflow                      SS  \n",
       "12  Halt of stage 3 because change in the backwash...                      SS  \n",
       "13  RO shut down sequence starts after 30 minutes....                      SS  \n",
       "14  RO shut down sequence starts after 30 minutes....                      SS  \n",
       "15                                      Tank overflow                      SM  \n",
       "16                              Possible damage to RO                      MM  \n",
       "17                                      System freeze                      MM  \n",
       "18                            Change in water quality                      SM  \n",
       "19                                     Tank underflow                      SM  \n",
       "20              Tank 101 underflow; Tank 301 overflow                      MS  \n",
       "21                                      Tank overflow                      MS  \n",
       "22                          Stop inflow of tank T-401                      SS  \n",
       "23                               Wastage of chemicals                      SM  \n",
       "24              Tank 101 underflow; Tank 301 overflow                      MM  \n",
       "25                                      Tank overflow                      SS  \n",
       "26                       Tank underflow; Damage P-302                      SS  \n",
       "27                       Tank underflow; Damage P-101                      SS  \n",
       "28                                      Stops outflow                      SS  \n",
       "29                                      Stops outflow                      SM  \n",
       "30                                      Tank overflow                      SS  \n",
       "31                                     Reduced output                      SM  \n",
       "32          Water goes to drain because of overdosing                      MS  \n",
       "33          UV will shut down and water will go to RO                      MS  \n",
       "34          UV will shut down and water will go to RO                      SS  \n",
       "35                                      Tank overflow                      SS  "
      ]
     },
     "execution_count": 144,
     "metadata": {},
     "output_type": "execute_result"
    }
   ],
   "source": [
    "attack_list"
   ]
  },
  {
   "cell_type": "code",
   "execution_count": 145,
   "metadata": {
    "ExecuteTime": {
     "end_time": "2019-03-11T10:16:25.856264Z",
     "start_time": "2019-03-11T10:16:25.827328Z"
    }
   },
   "outputs": [],
   "source": [
    "attack_list_acc = []\n",
    "anomaly = (norm > thresholds[np.argmax(f1)] )\n",
    "for idxx in range(0, len(attack_list)):\n",
    "    k, t = np.unique(anomaly[attack_list['Start Time'][idxx]:attack_list['End Time'][idxx]], return_counts=True)\n",
    "    if t.shape[0] > 1:\n",
    "        attack_list_acc.append(t[1]/(t[0] + t[1]))\n",
    "    elif k == 1:\n",
    "        attack_list_acc.append(1.0)\n",
    "    elif k == 0:\n",
    "        attack_list_acc.append(0.0)\n",
    "    else:\n",
    "        print(\"faral error in evaluation\")"
   ]
  },
  {
   "cell_type": "code",
   "execution_count": 146,
   "metadata": {
    "ExecuteTime": {
     "end_time": "2019-03-11T10:16:28.699422Z",
     "start_time": "2019-03-11T10:16:28.675018Z"
    }
   },
   "outputs": [
    {
     "data": {
      "text/plain": [
       "[0.0,\n",
       " 1.0,\n",
       " 0.0,\n",
       " 0.0,\n",
       " 0.0,\n",
       " 0.0,\n",
       " 0.0,\n",
       " 1.0,\n",
       " 1.0,\n",
       " 0.0,\n",
       " 0.0,\n",
       " 0.0,\n",
       " 0.0,\n",
       " 0.0,\n",
       " 0.011583011583011582,\n",
       " 1.0,\n",
       " 0.0,\n",
       " 1.0,\n",
       " 0.0,\n",
       " 0.0,\n",
       " 0.0,\n",
       " 0.9986159169550173,\n",
       " 0.8910306406685237,\n",
       " 0.0,\n",
       " 0.9803586678052946,\n",
       " 0.0,\n",
       " 0.0,\n",
       " 0.0,\n",
       " 0.8316831683168316,\n",
       " 0.0,\n",
       " 0.0,\n",
       " 0.8997867803837953,\n",
       " 0.0,\n",
       " 0.9600997506234414,\n",
       " 0.9528619528619529,\n",
       " 0.0]"
      ]
     },
     "execution_count": 146,
     "metadata": {},
     "output_type": "execute_result"
    }
   ],
   "source": [
    "attack_list_acc"
   ]
  },
  {
   "cell_type": "code",
   "execution_count": null,
   "metadata": {},
   "outputs": [],
   "source": [
    "precision, recall, thresholds = metrics.precision_recall_curve(  self.test_y[:449916].cpu().numpy(), self.anomal_score,pos_label =1)\n",
    "\n",
    "maximum = norm.max()\n",
    "th = np.linspace(0, maximum, num_samples)\n",
    "    attack_list_acc = []\n",
    "    for idxx in range(0, len(attack_list)):\n",
    "        k, t = np.unique(anomaly[attack_list['Start Time'][idxx]:attack_list['End Time'][idxx]], return_counts=True)\n",
    "        if t.shape[0] > 1:\n",
    "            attack_list_acc.append(t[1]/(t[0] + t[1]))\n",
    "        elif k == 1:\n",
    "            attack_list_acc.append(1.0)\n",
    "        elif k == 0:\n",
    "            attack_list_acc.append(0.0)\n",
    "        else:\n",
    "            print(\"faral error in evaluation\")\n",
    "    attack_list_.append(attack_list_acc)"
   ]
  },
  {
   "cell_type": "code",
   "execution_count": 162,
   "metadata": {
    "ExecuteTime": {
     "end_time": "2019-03-11T10:29:00.486273Z",
     "start_time": "2019-03-11T10:28:54.978820Z"
    }
   },
   "outputs": [
    {
     "name": "stdout",
     "output_type": "stream",
     "text": [
      "conv[40]\t precision[0.9245685161589251]\t recall[0.7306530455319382]\t f1[0.8162518151882684] \t find attack [17]\n"
     ]
    },
    {
     "data": {
      "text/plain": [
       "(40, 0.9245685161589251, 0.7306530455319382, 0.8162518151882684, 19)"
      ]
     },
     "execution_count": 162,
     "metadata": {},
     "output_type": "execute_result"
    }
   ],
   "source": [
    "postprocessing.evaluate_conv(solver.anomal_score, solver.test_y, attack_list)"
   ]
  },
  {
   "cell_type": "code",
   "execution_count": 163,
   "metadata": {
    "ExecuteTime": {
     "end_time": "2019-03-11T10:34:06.676262Z",
     "start_time": "2019-03-11T10:34:06.625694Z"
    }
   },
   "outputs": [],
   "source": [
    "class Solver():\n",
    "    def __init__(self, args):\n",
    "        \n",
    "        torch.manual_seed(777)\n",
    "        torch.cuda.manual_seed_all(777)\n",
    "\n",
    "        self.attack_list = pd.read_csv(args.attack_list_path, error_bad_lines=False, sep='\\t')\n",
    "\n",
    "        self.tf_log = args.tf_log\n",
    "        \n",
    "        train_x, test_x, test_y = dataset.dataset(train_path = args.train_path, test_path = args.test_path)\n",
    "        \n",
    "        train_x_batchfy = preprocessing.batchify(args, train_x, args.batch_size)\n",
    "        test_x_batchfy = preprocessing.batchify(args, test_x, args.batch_size)\n",
    "        generate_batchfy = preprocessing.batchify(args, test_x, 1)\n",
    "        train_generate_batchfy = preprocessing.batchify(args, train_x, 1)\n",
    "        \n",
    "        self.train_x_batchfy = train_x_batchfy[:,:,args.selected_dim]\n",
    "        self.test_x_batchfy = test_x_batchfy[:,:,args.selected_dim]\n",
    "        self.generate_batchfy = generate_batchfy[:,:,args.selected_dim]\n",
    "        self.train_generate_batchfy = train_generate_batchfy[:,:,args.selected_dim]\n",
    "        self.test_y = test_y\n",
    "        \n",
    "\n",
    "        self.args = args\n",
    "        self.encoder = model.ENCODER(self.args)\n",
    "        self.encoder.cuda()\n",
    "\n",
    "        self.decoder = model.DECODER(self.args)\n",
    "        self.decoder.cuda()\n",
    "\n",
    "        self.optim_enc   = torch.optim.Adam(self.encoder.parameters(), self.args.lr)\n",
    "        self.optim_dec   = torch.optim.Adam(self.decoder.parameters(), self.args.lr)\n",
    "\n",
    "        self.loss_fn = nn.MSELoss()    \n",
    "    \n",
    "        self.logger = Logger('./tf_logs')\n",
    "    \n",
    "        self.base_dir = Path('model_save')\n",
    "        self.base_dir.mkdir(parents=True,exist_ok=True)      \n",
    "        \n",
    "#         self.evaluate = args.evaluate\n",
    "    \n",
    "#     def make_dir_name(self, args):\n",
    "#         return 'modelName:'+args.model_name+'__cellType:'+args.cell_type \\\n",
    "#                 + '__hidSize:' + str(args.hidden_size) + '__dropout:' + str(args.dropout)\n",
    "\n",
    "    def load(self, path):\n",
    "        try:\n",
    "#             checkpoint = torch.load(Path(self.base_dir, str(args.selected_dim)))\n",
    "#             checkpoint = checkpoint.with_suffix('.pth')\n",
    "#             start_epoch = checkpoint['epoch\n",
    "#             self.encoder.load_state_dict(checkpoint['state_dict_enc)\n",
    "#             self.optim_enc.load_state_dict((checkpoint['optimizer_enc))\n",
    "#             self.decoder.load_state_dict(checkpoint['state_dict_dec)\n",
    "#             self.optim_dec.load_state_dict((checkpoint['optimizer_dec))            \n",
    "#             del checkpoint\n",
    "            print(\"=> loaded checkpoint\")\n",
    "        except:\n",
    "            print(\"=> Not exist checkpoint\")\n",
    "            pass        \n",
    "\n",
    "    def fit(self, load):\n",
    "        total_loss = 0\n",
    "        max_f1 = 0\n",
    "        total_length = self.train_x_batchfy.size(0) - 1\n",
    "        \n",
    "        \n",
    "        log = logging.getLogger('snowdeer_log')\n",
    "        log.setLevel(logging.DEBUG)\n",
    "\n",
    "        formatter = logging.Formatter('[%(levelname)s] (%(filename)s:%(lineno)d) > %(message)s')\n",
    "\n",
    "        fileHandler = logging.FileHandler('./log.txt')\n",
    "\n",
    "        fileHandler.setFormatter(formatter)\n",
    "        log.addHandler(fileHandler)\n",
    "        \n",
    "        log.critical(str(args.selected_dim))\n",
    "        \n",
    "                                          \n",
    "        for epoch in range(0, self.args.epoch):\n",
    "\n",
    "            self.encoder.train()\n",
    "            self.decoder.train()\n",
    "                \n",
    "            hidden_enc = self.encoder.init_hidden(self.args.batch_size)\n",
    "\n",
    "            for batch, i in enumerate(range(0, self.train_x_batchfy.size(0) - 1, self.args.seq_length)):\n",
    "                outSeq = []\n",
    "                inputSeq, targetSeq = preprocessing.get_batch(self.args, self.train_x_batchfy, i)\n",
    "\n",
    "                if args.seq_length != targetSeq.size()[0] :\n",
    "                    continue\n",
    "                hidden_enc = self.encoder.repackage_hidden(hidden_enc)\n",
    "                self.optim_enc.zero_grad()\n",
    "                self.optim_dec.zero_grad()\n",
    "                \n",
    "                Outputseq_enc, hidden_enc = self.encoder.forward(inputSeq, hidden_enc, return_hiddens=True)\n",
    "                deccoder_input = Variable(torch.zeros(Outputseq_enc.size())).cuda()\n",
    "                \n",
    "                deccoder_input[0,:,:] = Outputseq_enc[-1,:,:] # inputSeq[-1,:,:]\n",
    "                deccoder_input[1:,:,:] = targetSeq[:-1,:,:]\n",
    "                \n",
    "                loss_enc = self.loss_fn(Outputseq_enc[-1,:,:].view(self.args.batch_size, -1), targetSeq[0,:,:].contiguous().view(self.args.batch_size, -1))\n",
    "                loss_enc.backward(retain_graph=True)\n",
    "                torch.nn.utils.clip_grad_norm_(self.encoder.parameters(), self.args.clip)\n",
    "                \n",
    "                self.optim_enc.step()     \n",
    "                \n",
    "                Outputseq_enc, hidden_enc = self.decoder.forward(deccoder_input, hidden_enc, return_hiddens=True)\n",
    "                loss_dec = self.loss_fn(Outputseq_enc.view(args.batch_size, -1), targetSeq.contiguous().view(args.batch_size, -1))   \n",
    "                loss_dec.backward()\n",
    "                torch.nn.utils.clip_grad_norm_(self.decoder.parameters(), self.args.clip)\n",
    "                self.optim_dec.step()\n",
    "                \n",
    "                total_loss += loss_enc.item() + loss_dec.item()        \n",
    "\n",
    "                if batch % 30 == 0 and self.tf_log == True :\n",
    "                    # 1. Log scalar values (scalar summary)\n",
    "                    info = { 'enc_loss': loss_enc.item(), 'dec_loss' : loss_dec.item() }\n",
    "\n",
    "                    for tag, value in info.items():\n",
    "                        self.logger.scalar_summary(tag, value, epoch*total_length + i +1)\n",
    "\n",
    "                    # 2. Log values and gradients of the parameters (histogram summary)\n",
    "                    for tag, value in self.encoder.named_parameters():\n",
    "                        tag = tag.replace('.', '/')\n",
    "                        self.logger.histo_summary(tag, value.data.cpu().numpy(), epoch*total_length + i +1)\n",
    "                        \n",
    "                    for tag, value in self.decoder.named_parameters():\n",
    "                        tag = tag.replace('.', '/')\n",
    "                        self.logger.histo_summary(tag, value.data.cpu().numpy(), epoch*total_length + i +1)\n",
    "            \n",
    "            total_loss = 0    \n",
    "            self.anomal_score = postprocessing.get_anomalscore_encdec(base_model = self,  \\\n",
    "                                                                 generate_batchfy = self.generate_batchfy, length = 449916,args = self.args)\n",
    "#             self.anomal_score = postprocessing.get_anomalscore_minmax(base_model = self,  \\\n",
    "#                                                                  generate_batchfy = self.generate_batchfy, length = 449916,args = self.args)\n",
    "\n",
    "            self.anomal_score = LA.norm(self.anomal_score, axis=1)\n",
    "            max_conv, max_pre, max_recall, max_f1_tp, max_zerolist = postprocessing.evaluate_conv(self.anomal_score, self.test_y, self.attack_list)\n",
    "    \n",
    "            print(\"epoch[{}]\\t conv[{}]\\t precision[{}]\\t recall[{}]\\t f1[{}]\\t findnum[{}]\".format(epoch, max_conv, max_pre, max_recall, max_f1_tp,36 - max_zerolist))\n",
    "            log.info(\"epoch[{}]\\t conv[{}]\\t precision[{}]\\t recall[{}]\\t f1[{}]\\t findnum[{}]\".format(epoch, max_conv, max_pre, max_recall, max_f1_tp,36 - max_zerolist))\n",
    "            \n",
    "            if max_f1_tp > max_f1:\n",
    "                self.model_dictionary = {'epoch': epoch + 1,\n",
    "                        'state_dict_enc': self.encoder.state_dict(),\n",
    "                        'optimizer_enc': self.optim_enc.state_dict(),\n",
    "                        'state_dict_dec': self.decoder.state_dict(),\n",
    "                        'optimizer_dec': self.optim_dec.state_dict(),\n",
    "                        'args':args,\n",
    "                        'loss':total_loss,\n",
    "                        'anomal_score' : self.anomal_score \n",
    "                        }\n",
    "                self.save_checkpoint(self.args, self.model_dictionary)                                    \n",
    "                                    \n",
    "            \n",
    "            \n",
    "            \n",
    " \n",
    "    def save_checkpoint(self, args, state):\n",
    "        checkpoint = Path(self.base_dir, str(args.selected_dim))\n",
    "        checkpoint = checkpoint.with_suffix('.pth')\n",
    "        torch.save(state, checkpoint)\n",
    "        "
   ]
  },
  {
   "cell_type": "code",
   "execution_count": 166,
   "metadata": {
    "ExecuteTime": {
     "end_time": "2019-03-11T10:34:29.055995Z",
     "start_time": "2019-03-11T10:34:29.022527Z"
    }
   },
   "outputs": [],
   "source": [
    "attack_list = '../../DATA/SWaT/SWaT_Physical/attack_list.csv'\n",
    "attack_list = pd.read_csv(attack_list, error_bad_lines=False, sep='\\t')"
   ]
  },
  {
   "cell_type": "code",
   "execution_count": 30,
   "metadata": {
    "ExecuteTime": {
     "end_time": "2019-03-11T01:51:21.633247Z",
     "start_time": "2019-03-11T01:51:21.601227Z"
    }
   },
   "outputs": [],
   "source": [
    "train_path= '../../DATA/SWaT/SWaT_Physical/SWaT_Dataset_Normal_v0.csv'\n",
    "test_path = '../../DATA/SWaT/SWaT_Physical/SWaT_Dataset_Attack_v0.csv'\n",
    "\n",
    "attack_list = '../../DATA/SWaT/SWaT_Physical/attack_list.csv'\n",
    "attack_list = pd.read_csv(attack_list, error_bad_lines=False, sep='\\t')\n",
    "\n",
    "args={}\n",
    "args['tf_log'] = False\n",
    "args['model_name'] = 'enc_dec'\n",
    "args['cuda'] = True\n",
    "args['batch_size'] = 256\n",
    "args['clip'] = 1\n",
    "args['train_path'] = train_path\n",
    "args['test_path'] = test_path\n",
    "args['dropout'] = 0.5\n",
    "args['hidden_size'] = 32\n",
    "args['nlayers'] = 2\n",
    "args['lr'] =0.001\n",
    "args['cell_type'] = 'LSTM'\n",
    "args['epoch'] = 3\n",
    "args['seq_length'] = 2\n",
    "args['data_dim'] = 4\n",
    "args['selected_dim'] = [36,38,28,40]\n",
    "args['rnn_inp_size'] = args['data_dim']\n",
    "args['evaluate'] = True"
   ]
  },
  {
   "cell_type": "code",
   "execution_count": 167,
   "metadata": {
    "ExecuteTime": {
     "end_time": "2019-03-11T10:34:44.182924Z",
     "start_time": "2019-03-11T10:34:44.153645Z"
    }
   },
   "outputs": [],
   "source": [
    "parser = argparse.ArgumentParser()\n",
    "\n",
    "parser.add_argument(\"--cuda\", action=\"store_true\")\n",
    "parser.add_argument(\"--tf_log\", action=\"store_false\")\n",
    "parser.add_argument(\"--model_name\", type=str, default=\"enc_dec\")\n",
    "parser.add_argument(\"--batch_size\", type=int, default=256)\n",
    "parser.add_argument(\"--clip\", type=int, default=1)\n",
    "\n",
    "parser.add_argument(\"--train_path\", type=str, default=\"../../DATA/SWaT/SWaT_Physical/SWaT_Dataset_Normal_v0.csv\")\n",
    "parser.add_argument(\"--test_path\", type=str, default=\"../../DATA/SWaT/SWaT_Physical/SWaT_Dataset_Attack_v0.csv\")\n",
    "parser.add_argument(\"--attack_list_path\", type=str, default='../../DATA/SWaT/SWaT_Physical/attack_list.csv')\n",
    "\n",
    "parser.add_argument(\"--dropout\", type=float, default=0.5)\n",
    "parser.add_argument(\"--hidden_size\", type=int, default=32)\n",
    "parser.add_argument(\"--nlayers\", type=int, default=2)\n",
    "parser.add_argument(\"--lr\", type=float, default=0.001)\n",
    "\n",
    "parser.add_argument(\"--cell_type\", type=str, default=\"LSTM\")\n",
    "parser.add_argument(\"--epoch\", type=int, default=5)\n",
    "parser.add_argument(\"--seq_length\", type=int, default=2)\n",
    "parser.add_argument('--selected_dim', nargs='+', type=int, default=[36, 38, 28, 40])\n",
    "args = parser.parse_args([])"
   ]
  },
  {
   "cell_type": "code",
   "execution_count": 168,
   "metadata": {
    "ExecuteTime": {
     "end_time": "2019-03-11T10:34:52.897717Z",
     "start_time": "2019-03-11T10:34:46.219557Z"
    }
   },
   "outputs": [
    {
     "name": "stdout",
     "output_type": "stream",
     "text": [
      "tensor([0.0819, 0.4911])\n",
      "777 is 0.0819, 0.4911\n",
      "In train : {'Normal': 496800}\n",
      "In test : {'Attack': 54621, 'Normal': 395298}\n",
      "data length is 51\n"
     ]
    }
   ],
   "source": [
    "solver = Solver(args = args)"
   ]
  },
  {
   "cell_type": "code",
   "execution_count": 171,
   "metadata": {
    "ExecuteTime": {
     "end_time": "2019-03-11T10:44:10.983395Z",
     "start_time": "2019-03-11T10:36:07.366277Z"
    }
   },
   "outputs": [
    {
     "name": "stdout",
     "output_type": "stream",
     "text": [
      "anomal_detection...\n",
      "epoch[0]\t conv[10]\t precision[0.978645752446032]\t recall[0.6922062942824189]\t f1[0.8043803781420329]\t findnum[12]\n",
      "anomal_detection...\n",
      "epoch[1]\t conv[20]\t precision[0.9601905082625742]\t recall[0.7308178173230077]\t f1[0.8043803781420329]\t findnum[17]\n"
     ]
    },
    {
     "ename": "KeyboardInterrupt",
     "evalue": "",
     "output_type": "error",
     "traceback": [
      "\u001b[0;31m---------------------------------------------------------------------------\u001b[0m",
      "\u001b[0;31mKeyboardInterrupt\u001b[0m                         Traceback (most recent call last)",
      "\u001b[0;32m<ipython-input-171-f357950ccf5e>\u001b[0m in \u001b[0;36m<module>\u001b[0;34m()\u001b[0m\n\u001b[0;32m----> 1\u001b[0;31m \u001b[0msolver\u001b[0m\u001b[0;34m.\u001b[0m\u001b[0mfit\u001b[0m\u001b[0;34m(\u001b[0m\u001b[0mload\u001b[0m \u001b[0;34m=\u001b[0m \u001b[0;32mFalse\u001b[0m\u001b[0;34m)\u001b[0m\u001b[0;34m\u001b[0m\u001b[0;34m\u001b[0m\u001b[0m\n\u001b[0m\u001b[1;32m      2\u001b[0m \u001b[0;31m# data drop == 51\u001b[0m\u001b[0;34m\u001b[0m\u001b[0;34m\u001b[0m\u001b[0;34m\u001b[0m\u001b[0m\n",
      "\u001b[0;32m<ipython-input-163-e1ef1f72e391>\u001b[0m in \u001b[0;36mfit\u001b[0;34m(self, load)\u001b[0m\n\u001b[1;32m    137\u001b[0m \u001b[0;34m\u001b[0m\u001b[0m\n\u001b[1;32m    138\u001b[0m             \u001b[0mtotal_loss\u001b[0m \u001b[0;34m=\u001b[0m \u001b[0;36m0\u001b[0m\u001b[0;34m\u001b[0m\u001b[0;34m\u001b[0m\u001b[0m\n\u001b[0;32m--> 139\u001b[0;31m             \u001b[0mself\u001b[0m\u001b[0;34m.\u001b[0m\u001b[0manomal_score\u001b[0m \u001b[0;34m=\u001b[0m \u001b[0mpostprocessing\u001b[0m\u001b[0;34m.\u001b[0m\u001b[0mget_anomalscore_encdec\u001b[0m\u001b[0;34m(\u001b[0m\u001b[0mbase_model\u001b[0m \u001b[0;34m=\u001b[0m \u001b[0mself\u001b[0m\u001b[0;34m,\u001b[0m                                                                   \u001b[0mgenerate_batchfy\u001b[0m \u001b[0;34m=\u001b[0m \u001b[0mself\u001b[0m\u001b[0;34m.\u001b[0m\u001b[0mgenerate_batchfy\u001b[0m\u001b[0;34m,\u001b[0m \u001b[0mlength\u001b[0m \u001b[0;34m=\u001b[0m \u001b[0;36m449916\u001b[0m\u001b[0;34m,\u001b[0m\u001b[0margs\u001b[0m \u001b[0;34m=\u001b[0m \u001b[0mself\u001b[0m\u001b[0;34m.\u001b[0m\u001b[0margs\u001b[0m\u001b[0;34m)\u001b[0m\u001b[0;34m\u001b[0m\u001b[0;34m\u001b[0m\u001b[0m\n\u001b[0m\u001b[1;32m    140\u001b[0m \u001b[0;31m#             self.anomal_score = postprocessing.get_anomalscore_minmax(base_model = self,  \\\u001b[0m\u001b[0;34m\u001b[0m\u001b[0;34m\u001b[0m\u001b[0;34m\u001b[0m\u001b[0m\n\u001b[1;32m    141\u001b[0m \u001b[0;31m#                                                                  generate_batchfy = self.generate_batchfy, length = 449916,args = self.args)\u001b[0m\u001b[0;34m\u001b[0m\u001b[0;34m\u001b[0m\u001b[0;34m\u001b[0m\u001b[0m\n",
      "\u001b[0;32m~/workspace/swat_anomal/utils/postprocessing.py\u001b[0m in \u001b[0;36mget_anomalscore_encdec\u001b[0;34m(base_model, generate_batchfy, length, args)\u001b[0m\n\u001b[1;32m     19\u001b[0m     \u001b[0;32mfor\u001b[0m \u001b[0mi\u001b[0m \u001b[0;32min\u001b[0m \u001b[0mrange\u001b[0m\u001b[0;34m(\u001b[0m\u001b[0;36m0\u001b[0m\u001b[0;34m,\u001b[0m\u001b[0mendPoint\u001b[0m\u001b[0;34m,\u001b[0m\u001b[0mstep\u001b[0m\u001b[0;34m)\u001b[0m\u001b[0;34m:\u001b[0m\u001b[0;34m\u001b[0m\u001b[0;34m\u001b[0m\u001b[0m\n\u001b[1;32m     20\u001b[0m         \u001b[0mOutputseq_enc\u001b[0m\u001b[0;34m,\u001b[0m \u001b[0mhidden_enc\u001b[0m \u001b[0;34m=\u001b[0m \u001b[0mbase_model\u001b[0m\u001b[0;34m.\u001b[0m\u001b[0mencoder\u001b[0m\u001b[0;34m.\u001b[0m\u001b[0mforward\u001b[0m\u001b[0;34m(\u001b[0m\u001b[0mVariable\u001b[0m\u001b[0;34m(\u001b[0m\u001b[0mgenerate_batchfy\u001b[0m\u001b[0;34m[\u001b[0m\u001b[0mi\u001b[0m\u001b[0;34m:\u001b[0m\u001b[0mi\u001b[0m\u001b[0;34m+\u001b[0m\u001b[0mstep\u001b[0m\u001b[0;34m]\u001b[0m\u001b[0;34m)\u001b[0m\u001b[0;34m.\u001b[0m\u001b[0mcuda\u001b[0m\u001b[0;34m(\u001b[0m\u001b[0;34m)\u001b[0m\u001b[0;34m,\u001b[0m \u001b[0mhidden_enc\u001b[0m\u001b[0;34m)\u001b[0m\u001b[0;34m\u001b[0m\u001b[0;34m\u001b[0m\u001b[0m\n\u001b[0;32m---> 21\u001b[0;31m         \u001b[0mdeccoder_input\u001b[0m \u001b[0;34m=\u001b[0m \u001b[0mVariable\u001b[0m\u001b[0;34m(\u001b[0m\u001b[0mtorch\u001b[0m\u001b[0;34m.\u001b[0m\u001b[0mzeros\u001b[0m\u001b[0;34m(\u001b[0m\u001b[0mOutputseq_enc\u001b[0m\u001b[0;34m.\u001b[0m\u001b[0msize\u001b[0m\u001b[0;34m(\u001b[0m\u001b[0;34m)\u001b[0m\u001b[0;34m)\u001b[0m\u001b[0;34m)\u001b[0m\u001b[0;34m.\u001b[0m\u001b[0mcuda\u001b[0m\u001b[0;34m(\u001b[0m\u001b[0;34m)\u001b[0m\u001b[0;34m\u001b[0m\u001b[0;34m\u001b[0m\u001b[0m\n\u001b[0m\u001b[1;32m     22\u001b[0m         \u001b[0mdeccoder_input\u001b[0m\u001b[0;34m[\u001b[0m\u001b[0;36m0\u001b[0m\u001b[0;34m,\u001b[0m\u001b[0;34m:\u001b[0m\u001b[0;34m,\u001b[0m\u001b[0;34m:\u001b[0m\u001b[0;34m]\u001b[0m \u001b[0;34m=\u001b[0m \u001b[0mOutputseq_enc\u001b[0m\u001b[0;34m[\u001b[0m\u001b[0;34m-\u001b[0m\u001b[0;36m1\u001b[0m\u001b[0;34m,\u001b[0m\u001b[0;34m:\u001b[0m\u001b[0;34m,\u001b[0m\u001b[0;34m:\u001b[0m\u001b[0;34m]\u001b[0m\u001b[0;34m\u001b[0m\u001b[0;34m\u001b[0m\u001b[0m\n\u001b[1;32m     23\u001b[0m         \u001b[0;32mtry\u001b[0m\u001b[0;34m:\u001b[0m\u001b[0;34m\u001b[0m\u001b[0;34m\u001b[0m\u001b[0m\n",
      "\u001b[0;31mKeyboardInterrupt\u001b[0m: "
     ]
    }
   ],
   "source": [
    "solver.fit(load = False)\n",
    "# data drop == 51"
   ]
  },
  {
   "cell_type": "code",
   "execution_count": 127,
   "metadata": {
    "ExecuteTime": {
     "end_time": "2019-03-11T09:57:38.436519Z",
     "start_time": "2019-03-11T09:40:47.926838Z"
    }
   },
   "outputs": [
    {
     "name": "stdout",
     "output_type": "stream",
     "text": [
      "anomal_detection...\n",
      "epoch[0]\t precision[0.9759514359094092]\t recall[0.6887460866699621]\t f1[0.8075734157650696]\n",
      "anomal_detection...\n",
      "epoch[1]\t precision[0.9846234446627374]\t recall[0.6881602314128266]\t f1[0.8101211259105996]\n",
      "anomal_detection...\n",
      "epoch[2]\t precision[0.9858296390120329]\t recall[0.6839677047289504]\t f1[0.8076137358539511]\n",
      "anomal_detection...\n",
      "epoch[3]\t precision[0.9880620562713647]\t recall[0.6879405356914008]\t f1[0.811129939234331]\n",
      "anomal_detection...\n",
      "epoch[4]\t precision[0.9806387642208537]\t recall[0.6880503835521137]\t f1[0.8086933132497715]\n"
     ]
    }
   ],
   "source": [
    "solver.fit(load = False)\n",
    "# data drop == 51"
   ]
  },
  {
   "cell_type": "code",
   "execution_count": 77,
   "metadata": {
    "ExecuteTime": {
     "end_time": "2019-03-11T02:27:19.870270Z",
     "start_time": "2019-03-11T02:13:52.084931Z"
    }
   },
   "outputs": [
    {
     "name": "stdout",
     "output_type": "stream",
     "text": [
      "anomal_detection...\n",
      "epoch[0]\t precision[0.9852968156204953]\t recall[0.6882700792735394]\t f1[0.8104251099422264]\n",
      "anomal_detection...\n",
      "epoch[1]\t precision[0.9794525899111957]\t recall[0.6885630069021073]\t f1[0.8086433025155881]\n",
      "anomal_detection...\n",
      "epoch[2]\t precision[0.9830969700141294]\t recall[0.6878673037842588]\t f1[0.8094012214694256]\n",
      "anomal_detection...\n",
      "epoch[3]\t precision[0.9879065120803429]\t recall[0.6879588436681863]\t f1[0.8110902458503313]\n"
     ]
    }
   ],
   "source": [
    "solver.fit(load = False)\n",
    "# data drop == 51"
   ]
  },
  {
   "cell_type": "code",
   "execution_count": 97,
   "metadata": {
    "ExecuteTime": {
     "end_time": "2019-03-11T09:27:54.217598Z",
     "start_time": "2019-03-11T09:17:49.337987Z"
    }
   },
   "outputs": [
    {
     "name": "stdout",
     "output_type": "stream",
     "text": [
      "anomal_detection...\n",
      "epoch[0]\t precision[0.9852968156204953]\t recall[0.6882700792735394]\t f1[0.8104251099422264]\n",
      "anomal_detection...\n",
      "epoch[1]\t precision[0.9794525899111957]\t recall[0.6885630069021073]\t f1[0.8086433025155881]\n",
      "anomal_detection...\n",
      "epoch[2]\t precision[0.9830969700141294]\t recall[0.6878673037842588]\t f1[0.8094012214694256]\n"
     ]
    }
   ],
   "source": [
    "solver.fit(load = False)\n",
    "# data drop == 51"
   ]
  },
  {
   "cell_type": "code",
   "execution_count": 80,
   "metadata": {
    "ExecuteTime": {
     "end_time": "2019-03-11T02:39:30.445009Z",
     "start_time": "2019-03-11T02:31:18.483472Z"
    },
    "scrolled": true
   },
   "outputs": [
    {
     "name": "stdout",
     "output_type": "stream",
     "text": [
      "anomal_detection...\n",
      "epoch[0]\t precision[0.9829493449096472]\t recall[0.6881419234360411]\t f1[0.8095412448847727]\n",
      "anomal_detection...\n",
      "epoch[1]\t precision[0.9778136135459203]\t recall[0.6882700792735394]\t f1[0.807882408561482]\n"
     ]
    },
    {
     "ename": "KeyboardInterrupt",
     "evalue": "",
     "output_type": "error",
     "traceback": [
      "\u001b[0;31m---------------------------------------------------------------------------\u001b[0m",
      "\u001b[0;31mKeyboardInterrupt\u001b[0m                         Traceback (most recent call last)",
      "\u001b[0;32m<ipython-input-80-c379dfe753c0>\u001b[0m in \u001b[0;36m<module>\u001b[0;34m()\u001b[0m\n\u001b[0;32m----> 1\u001b[0;31m \u001b[0msolver\u001b[0m\u001b[0;34m.\u001b[0m\u001b[0mfit\u001b[0m\u001b[0;34m(\u001b[0m\u001b[0mload\u001b[0m \u001b[0;34m=\u001b[0m \u001b[0;32mFalse\u001b[0m\u001b[0;34m)\u001b[0m\u001b[0;34m\u001b[0m\u001b[0;34m\u001b[0m\u001b[0m\n\u001b[0m\u001b[1;32m      2\u001b[0m \u001b[0;31m# data drop == 45\u001b[0m\u001b[0;34m\u001b[0m\u001b[0;34m\u001b[0m\u001b[0;34m\u001b[0m\u001b[0m\n",
      "\u001b[0;32m<ipython-input-75-8e04257540b5>\u001b[0m in \u001b[0;36mfit\u001b[0;34m(self, load)\u001b[0m\n\u001b[1;32m    148\u001b[0m \u001b[0;34m\u001b[0m\u001b[0m\n\u001b[1;32m    149\u001b[0m             \u001b[0mtotal_loss\u001b[0m \u001b[0;34m=\u001b[0m \u001b[0;36m0\u001b[0m\u001b[0;34m\u001b[0m\u001b[0;34m\u001b[0m\u001b[0m\n\u001b[0;32m--> 150\u001b[0;31m             \u001b[0mself\u001b[0m\u001b[0;34m.\u001b[0m\u001b[0manomal_score\u001b[0m \u001b[0;34m=\u001b[0m \u001b[0mpostprocessing\u001b[0m\u001b[0;34m.\u001b[0m\u001b[0mget_anomalscore_encdec\u001b[0m\u001b[0;34m(\u001b[0m\u001b[0mbase_model\u001b[0m \u001b[0;34m=\u001b[0m \u001b[0mself\u001b[0m\u001b[0;34m,\u001b[0m                                                                   \u001b[0mgenerate_batchfy\u001b[0m \u001b[0;34m=\u001b[0m \u001b[0mself\u001b[0m\u001b[0;34m.\u001b[0m\u001b[0mgenerate_batchfy\u001b[0m\u001b[0;34m,\u001b[0m \u001b[0mlength\u001b[0m \u001b[0;34m=\u001b[0m \u001b[0;36m449916\u001b[0m\u001b[0;34m,\u001b[0m\u001b[0margs\u001b[0m \u001b[0;34m=\u001b[0m \u001b[0mself\u001b[0m\u001b[0;34m.\u001b[0m\u001b[0margs\u001b[0m\u001b[0;34m)\u001b[0m\u001b[0;34m\u001b[0m\u001b[0;34m\u001b[0m\u001b[0m\n\u001b[0m\u001b[1;32m    151\u001b[0m \u001b[0;31m#             self.anomal_score = postprocessing.get_anomalscore_minmax(base_model = self,  \\\u001b[0m\u001b[0;34m\u001b[0m\u001b[0;34m\u001b[0m\u001b[0;34m\u001b[0m\u001b[0m\n\u001b[1;32m    152\u001b[0m \u001b[0;31m#                                                                  generate_batchfy = self.generate_batchfy, length = 449916,args = self.args)\u001b[0m\u001b[0;34m\u001b[0m\u001b[0;34m\u001b[0m\u001b[0;34m\u001b[0m\u001b[0m\n",
      "\u001b[0;32m~/workspace/swat_anomal/utils/postprocessing.py\u001b[0m in \u001b[0;36mget_anomalscore_encdec\u001b[0;34m(base_model, generate_batchfy, length, args)\u001b[0m\n\u001b[1;32m     21\u001b[0m         \u001b[0;32mexcept\u001b[0m\u001b[0;34m:\u001b[0m\u001b[0;34m\u001b[0m\u001b[0;34m\u001b[0m\u001b[0m\n\u001b[1;32m     22\u001b[0m             \u001b[0;32mcontinue\u001b[0m\u001b[0;34m\u001b[0m\u001b[0;34m\u001b[0m\u001b[0m\n\u001b[0;32m---> 23\u001b[0;31m         \u001b[0mOutputseq_enc\u001b[0m\u001b[0;34m,\u001b[0m \u001b[0mhidden_enc\u001b[0m \u001b[0;34m=\u001b[0m \u001b[0mbase_model\u001b[0m\u001b[0;34m.\u001b[0m\u001b[0mdecoder\u001b[0m\u001b[0;34m.\u001b[0m\u001b[0mforward\u001b[0m\u001b[0;34m(\u001b[0m\u001b[0mdeccoder_input\u001b[0m\u001b[0;34m,\u001b[0m \u001b[0mhidden_enc\u001b[0m\u001b[0;34m,\u001b[0m \u001b[0mreturn_hiddens\u001b[0m\u001b[0;34m=\u001b[0m\u001b[0;32mTrue\u001b[0m\u001b[0;34m)\u001b[0m\u001b[0;34m\u001b[0m\u001b[0;34m\u001b[0m\u001b[0m\n\u001b[0m\u001b[1;32m     24\u001b[0m         \u001b[0;32mif\u001b[0m \u001b[0mOutputseq_enc\u001b[0m\u001b[0;34m.\u001b[0m\u001b[0msize\u001b[0m\u001b[0;34m(\u001b[0m\u001b[0;34m)\u001b[0m\u001b[0;34m[\u001b[0m\u001b[0;36m0\u001b[0m\u001b[0;34m]\u001b[0m \u001b[0;34m!=\u001b[0m \u001b[0mgenerate_batchfy\u001b[0m\u001b[0;34m[\u001b[0m\u001b[0mi\u001b[0m\u001b[0;34m:\u001b[0m\u001b[0mi\u001b[0m\u001b[0;34m+\u001b[0m\u001b[0mstep\u001b[0m\u001b[0;34m]\u001b[0m\u001b[0;34m.\u001b[0m\u001b[0msize\u001b[0m\u001b[0;34m(\u001b[0m\u001b[0;34m)\u001b[0m\u001b[0;34m[\u001b[0m\u001b[0;36m0\u001b[0m\u001b[0;34m]\u001b[0m \u001b[0;34m:\u001b[0m\u001b[0;34m\u001b[0m\u001b[0;34m\u001b[0m\u001b[0m\n\u001b[1;32m     25\u001b[0m             \u001b[0;32mcontinue\u001b[0m\u001b[0;34m\u001b[0m\u001b[0;34m\u001b[0m\u001b[0m\n",
      "\u001b[0;32m~/workspace/swat_anomal/lstm/model.py\u001b[0m in \u001b[0;36mforward\u001b[0;34m(self, input, hidden, return_hiddens, noise)\u001b[0m\n\u001b[1;32m     67\u001b[0m     \u001b[0;32mdef\u001b[0m \u001b[0mforward\u001b[0m\u001b[0;34m(\u001b[0m\u001b[0mself\u001b[0m\u001b[0;34m,\u001b[0m \u001b[0minput\u001b[0m\u001b[0;34m,\u001b[0m \u001b[0mhidden\u001b[0m\u001b[0;34m,\u001b[0m \u001b[0mreturn_hiddens\u001b[0m\u001b[0;34m=\u001b[0m\u001b[0;32mFalse\u001b[0m\u001b[0;34m,\u001b[0m \u001b[0mnoise\u001b[0m\u001b[0;34m=\u001b[0m\u001b[0;32mFalse\u001b[0m\u001b[0;34m)\u001b[0m\u001b[0;34m:\u001b[0m\u001b[0;34m\u001b[0m\u001b[0;34m\u001b[0m\u001b[0m\n\u001b[1;32m     68\u001b[0m \u001b[0;34m\u001b[0m\u001b[0m\n\u001b[0;32m---> 69\u001b[0;31m         \u001b[0moutput\u001b[0m\u001b[0;34m,\u001b[0m \u001b[0mhidden\u001b[0m \u001b[0;34m=\u001b[0m \u001b[0mself\u001b[0m\u001b[0;34m.\u001b[0m\u001b[0mrnn\u001b[0m\u001b[0;34m(\u001b[0m\u001b[0minput\u001b[0m\u001b[0;34m,\u001b[0m \u001b[0mhidden\u001b[0m\u001b[0;34m)\u001b[0m\u001b[0;34m\u001b[0m\u001b[0;34m\u001b[0m\u001b[0m\n\u001b[0m\u001b[1;32m     70\u001b[0m         \u001b[0moutput\u001b[0m \u001b[0;34m=\u001b[0m \u001b[0mself\u001b[0m\u001b[0;34m.\u001b[0m\u001b[0mlinear\u001b[0m\u001b[0;34m(\u001b[0m\u001b[0moutput\u001b[0m\u001b[0;34m.\u001b[0m\u001b[0mcontiguous\u001b[0m\u001b[0;34m(\u001b[0m\u001b[0;34m)\u001b[0m\u001b[0;34m.\u001b[0m\u001b[0mview\u001b[0m\u001b[0;34m(\u001b[0m\u001b[0;34m-\u001b[0m\u001b[0;36m1\u001b[0m\u001b[0;34m,\u001b[0m\u001b[0mself\u001b[0m\u001b[0;34m.\u001b[0m\u001b[0margs\u001b[0m\u001b[0;34m[\u001b[0m\u001b[0;34m'hidden_size'\u001b[0m\u001b[0;34m]\u001b[0m\u001b[0;34m)\u001b[0m\u001b[0;34m)\u001b[0m\u001b[0;34m\u001b[0m\u001b[0;34m\u001b[0m\u001b[0m\n\u001b[1;32m     71\u001b[0m         \u001b[0moutput\u001b[0m \u001b[0;34m=\u001b[0m \u001b[0moutput\u001b[0m\u001b[0;34m.\u001b[0m\u001b[0mcontiguous\u001b[0m\u001b[0;34m(\u001b[0m\u001b[0;34m)\u001b[0m\u001b[0;34m.\u001b[0m\u001b[0mview\u001b[0m\u001b[0;34m(\u001b[0m\u001b[0minput\u001b[0m\u001b[0;34m.\u001b[0m\u001b[0msize\u001b[0m\u001b[0;34m(\u001b[0m\u001b[0;34m)\u001b[0m\u001b[0;34m[\u001b[0m\u001b[0;36m0\u001b[0m\u001b[0;34m]\u001b[0m\u001b[0;34m,\u001b[0m \u001b[0;34m-\u001b[0m\u001b[0;36m1\u001b[0m\u001b[0;34m,\u001b[0m \u001b[0mself\u001b[0m\u001b[0;34m.\u001b[0m\u001b[0margs\u001b[0m\u001b[0;34m[\u001b[0m\u001b[0;34m'rnn_inp_size'\u001b[0m\u001b[0;34m]\u001b[0m\u001b[0;34m)\u001b[0m\u001b[0;34m\u001b[0m\u001b[0;34m\u001b[0m\u001b[0m\n",
      "\u001b[0;32m~/anaconda3/envs/latest_3.6/lib/python3.6/site-packages/torch/nn/modules/module.py\u001b[0m in \u001b[0;36m__call__\u001b[0;34m(self, *input, **kwargs)\u001b[0m\n\u001b[1;32m    475\u001b[0m             \u001b[0mresult\u001b[0m \u001b[0;34m=\u001b[0m \u001b[0mself\u001b[0m\u001b[0;34m.\u001b[0m\u001b[0m_slow_forward\u001b[0m\u001b[0;34m(\u001b[0m\u001b[0;34m*\u001b[0m\u001b[0minput\u001b[0m\u001b[0;34m,\u001b[0m \u001b[0;34m**\u001b[0m\u001b[0mkwargs\u001b[0m\u001b[0;34m)\u001b[0m\u001b[0;34m\u001b[0m\u001b[0;34m\u001b[0m\u001b[0m\n\u001b[1;32m    476\u001b[0m         \u001b[0;32melse\u001b[0m\u001b[0;34m:\u001b[0m\u001b[0;34m\u001b[0m\u001b[0;34m\u001b[0m\u001b[0m\n\u001b[0;32m--> 477\u001b[0;31m             \u001b[0mresult\u001b[0m \u001b[0;34m=\u001b[0m \u001b[0mself\u001b[0m\u001b[0;34m.\u001b[0m\u001b[0mforward\u001b[0m\u001b[0;34m(\u001b[0m\u001b[0;34m*\u001b[0m\u001b[0minput\u001b[0m\u001b[0;34m,\u001b[0m \u001b[0;34m**\u001b[0m\u001b[0mkwargs\u001b[0m\u001b[0;34m)\u001b[0m\u001b[0;34m\u001b[0m\u001b[0;34m\u001b[0m\u001b[0m\n\u001b[0m\u001b[1;32m    478\u001b[0m         \u001b[0;32mfor\u001b[0m \u001b[0mhook\u001b[0m \u001b[0;32min\u001b[0m \u001b[0mself\u001b[0m\u001b[0;34m.\u001b[0m\u001b[0m_forward_hooks\u001b[0m\u001b[0;34m.\u001b[0m\u001b[0mvalues\u001b[0m\u001b[0;34m(\u001b[0m\u001b[0;34m)\u001b[0m\u001b[0;34m:\u001b[0m\u001b[0;34m\u001b[0m\u001b[0;34m\u001b[0m\u001b[0m\n\u001b[1;32m    479\u001b[0m             \u001b[0mhook_result\u001b[0m \u001b[0;34m=\u001b[0m \u001b[0mhook\u001b[0m\u001b[0;34m(\u001b[0m\u001b[0mself\u001b[0m\u001b[0;34m,\u001b[0m \u001b[0minput\u001b[0m\u001b[0;34m,\u001b[0m \u001b[0mresult\u001b[0m\u001b[0;34m)\u001b[0m\u001b[0;34m\u001b[0m\u001b[0;34m\u001b[0m\u001b[0m\n",
      "\u001b[0;32m~/anaconda3/envs/latest_3.6/lib/python3.6/site-packages/torch/nn/modules/rnn.py\u001b[0m in \u001b[0;36mforward\u001b[0;34m(self, input, hx)\u001b[0m\n\u001b[1;32m    190\u001b[0m             \u001b[0mflat_weight\u001b[0m\u001b[0;34m=\u001b[0m\u001b[0mflat_weight\u001b[0m\u001b[0;34m\u001b[0m\u001b[0;34m\u001b[0m\u001b[0m\n\u001b[1;32m    191\u001b[0m         )\n\u001b[0;32m--> 192\u001b[0;31m         \u001b[0moutput\u001b[0m\u001b[0;34m,\u001b[0m \u001b[0mhidden\u001b[0m \u001b[0;34m=\u001b[0m \u001b[0mfunc\u001b[0m\u001b[0;34m(\u001b[0m\u001b[0minput\u001b[0m\u001b[0;34m,\u001b[0m \u001b[0mself\u001b[0m\u001b[0;34m.\u001b[0m\u001b[0mall_weights\u001b[0m\u001b[0;34m,\u001b[0m \u001b[0mhx\u001b[0m\u001b[0;34m,\u001b[0m \u001b[0mbatch_sizes\u001b[0m\u001b[0;34m)\u001b[0m\u001b[0;34m\u001b[0m\u001b[0;34m\u001b[0m\u001b[0m\n\u001b[0m\u001b[1;32m    193\u001b[0m         \u001b[0;32mif\u001b[0m \u001b[0mis_packed\u001b[0m\u001b[0;34m:\u001b[0m\u001b[0;34m\u001b[0m\u001b[0;34m\u001b[0m\u001b[0m\n\u001b[1;32m    194\u001b[0m             \u001b[0moutput\u001b[0m \u001b[0;34m=\u001b[0m \u001b[0mPackedSequence\u001b[0m\u001b[0;34m(\u001b[0m\u001b[0moutput\u001b[0m\u001b[0;34m,\u001b[0m \u001b[0mbatch_sizes\u001b[0m\u001b[0;34m)\u001b[0m\u001b[0;34m\u001b[0m\u001b[0;34m\u001b[0m\u001b[0m\n",
      "\u001b[0;32m~/anaconda3/envs/latest_3.6/lib/python3.6/site-packages/torch/nn/_functions/rnn.py\u001b[0m in \u001b[0;36mforward\u001b[0;34m(input, *fargs, **fkwargs)\u001b[0m\n\u001b[1;32m    322\u001b[0m             \u001b[0mfunc\u001b[0m \u001b[0;34m=\u001b[0m \u001b[0mdecorator\u001b[0m\u001b[0;34m(\u001b[0m\u001b[0mfunc\u001b[0m\u001b[0;34m)\u001b[0m\u001b[0;34m\u001b[0m\u001b[0;34m\u001b[0m\u001b[0m\n\u001b[1;32m    323\u001b[0m \u001b[0;34m\u001b[0m\u001b[0m\n\u001b[0;32m--> 324\u001b[0;31m         \u001b[0;32mreturn\u001b[0m \u001b[0mfunc\u001b[0m\u001b[0;34m(\u001b[0m\u001b[0minput\u001b[0m\u001b[0;34m,\u001b[0m \u001b[0;34m*\u001b[0m\u001b[0mfargs\u001b[0m\u001b[0;34m,\u001b[0m \u001b[0;34m**\u001b[0m\u001b[0mfkwargs\u001b[0m\u001b[0;34m)\u001b[0m\u001b[0;34m\u001b[0m\u001b[0;34m\u001b[0m\u001b[0m\n\u001b[0m\u001b[1;32m    325\u001b[0m \u001b[0;34m\u001b[0m\u001b[0m\n\u001b[1;32m    326\u001b[0m     \u001b[0;32mreturn\u001b[0m \u001b[0mforward\u001b[0m\u001b[0;34m\u001b[0m\u001b[0;34m\u001b[0m\u001b[0m\n",
      "\u001b[0;32m~/anaconda3/envs/latest_3.6/lib/python3.6/site-packages/torch/nn/_functions/rnn.py\u001b[0m in \u001b[0;36mforward\u001b[0;34m(input, weight, hx, batch_sizes)\u001b[0m\n\u001b[1;32m    286\u001b[0m             \u001b[0mbatch_first\u001b[0m\u001b[0;34m,\u001b[0m \u001b[0mdropout\u001b[0m\u001b[0;34m,\u001b[0m \u001b[0mtrain\u001b[0m\u001b[0;34m,\u001b[0m \u001b[0mbool\u001b[0m\u001b[0;34m(\u001b[0m\u001b[0mbidirectional\u001b[0m\u001b[0;34m)\u001b[0m\u001b[0;34m,\u001b[0m\u001b[0;34m\u001b[0m\u001b[0;34m\u001b[0m\u001b[0m\n\u001b[1;32m    287\u001b[0m             \u001b[0mlist\u001b[0m\u001b[0;34m(\u001b[0m\u001b[0mbatch_sizes\u001b[0m\u001b[0;34m.\u001b[0m\u001b[0mdata\u001b[0m\u001b[0;34m)\u001b[0m \u001b[0;32mif\u001b[0m \u001b[0mvariable_length\u001b[0m \u001b[0;32melse\u001b[0m \u001b[0;34m(\u001b[0m\u001b[0;34m)\u001b[0m\u001b[0;34m,\u001b[0m\u001b[0;34m\u001b[0m\u001b[0;34m\u001b[0m\u001b[0m\n\u001b[0;32m--> 288\u001b[0;31m             dropout_ts)\n\u001b[0m\u001b[1;32m    289\u001b[0m \u001b[0;34m\u001b[0m\u001b[0m\n\u001b[1;32m    290\u001b[0m         \u001b[0;32mif\u001b[0m \u001b[0mcx\u001b[0m \u001b[0;32mis\u001b[0m \u001b[0;32mnot\u001b[0m \u001b[0;32mNone\u001b[0m\u001b[0;34m:\u001b[0m\u001b[0;34m\u001b[0m\u001b[0;34m\u001b[0m\u001b[0m\n",
      "\u001b[0;31mKeyboardInterrupt\u001b[0m: "
     ]
    }
   ],
   "source": [
    "solver.fit(load = False)\n",
    "# data drop == 45"
   ]
  },
  {
   "cell_type": "code",
   "execution_count": 82,
   "metadata": {
    "ExecuteTime": {
     "end_time": "2019-03-11T02:53:12.717428Z",
     "start_time": "2019-03-11T02:39:44.544828Z"
    }
   },
   "outputs": [
    {
     "name": "stdout",
     "output_type": "stream",
     "text": [
      "anomal_detection...\n",
      "epoch[0]\t precision[0.9829493449096472]\t recall[0.6881419234360411]\t f1[0.8095412448847727]\n",
      "anomal_detection...\n",
      "epoch[1]\t precision[0.9778136135459203]\t recall[0.6882700792735394]\t f1[0.807882408561482]\n",
      "anomal_detection...\n",
      "epoch[2]\t precision[0.983513315160411]\t recall[0.68697021292177]\t f1[0.8089206989102432]\n",
      "anomal_detection...\n",
      "epoch[3]\t precision[0.9867132316256597]\t recall[0.6879588436681863]\t f1[0.8106877804625475]\n"
     ]
    }
   ],
   "source": [
    "solver.fit(load = False)\n",
    "# data drop == 45"
   ]
  }
 ],
 "metadata": {
  "kernelspec": {
   "display_name": "Python 3",
   "language": "python",
   "name": "python3"
  },
  "language_info": {
   "codemirror_mode": {
    "name": "ipython",
    "version": 3
   },
   "file_extension": ".py",
   "mimetype": "text/x-python",
   "name": "python",
   "nbconvert_exporter": "python",
   "pygments_lexer": "ipython3",
   "version": "3.6.8"
  },
  "toc": {
   "base_numbering": 1,
   "nav_menu": {},
   "number_sections": true,
   "sideBar": true,
   "skip_h1_title": false,
   "title_cell": "Table of Contents",
   "title_sidebar": "Contents",
   "toc_cell": false,
   "toc_position": {},
   "toc_section_display": true,
   "toc_window_display": false
  },
  "varInspector": {
   "cols": {
    "lenName": 16,
    "lenType": 16,
    "lenVar": 40
   },
   "kernels_config": {
    "python": {
     "delete_cmd_postfix": "",
     "delete_cmd_prefix": "del ",
     "library": "var_list.py",
     "varRefreshCmd": "print(var_dic_list())"
    },
    "r": {
     "delete_cmd_postfix": ") ",
     "delete_cmd_prefix": "rm(",
     "library": "var_list.r",
     "varRefreshCmd": "cat(var_dic_list()) "
    }
   },
   "types_to_exclude": [
    "module",
    "function",
    "builtin_function_or_method",
    "instance",
    "_Feature"
   ],
   "window_display": false
  }
 },
 "nbformat": 4,
 "nbformat_minor": 2
}
