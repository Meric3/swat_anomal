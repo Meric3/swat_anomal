{
 "cells": [
  {
   "cell_type": "code",
   "execution_count": 1,
   "metadata": {
    "ExecuteTime": {
     "end_time": "2019-04-11T03:28:38.088702Z",
     "start_time": "2019-04-11T03:28:37.636682Z"
    }
   },
   "outputs": [],
   "source": [
    "import pandas as pd\n",
    "import numpy as np\n",
    "import matplotlib.pyplot as plt\n",
    "import matplotlib.font_manager\n",
    "from sklearn.preprocessing import StandardScaler, MinMaxScaler\n",
    "from sklearn.decomposition import PCA\n",
    "from sklearn import svm\n",
    "from sklearn import metrics\n",
    "import time, datetime\n",
    "import itertools as it\n",
    "from IPython.display import display\n",
    "import pickle"
   ]
  },
  {
   "cell_type": "code",
   "execution_count": 27,
   "metadata": {
    "ExecuteTime": {
     "end_time": "2019-04-16T05:13:17.142512Z",
     "start_time": "2019-04-16T05:13:17.138977Z"
    }
   },
   "outputs": [],
   "source": [
    "from sklearn.model_selection import KFold\n",
    "import torch\n",
    "import sklearn.preprocessing \n",
    "from sklearn.decomposition import PCA"
   ]
  },
  {
   "cell_type": "code",
   "execution_count": 2,
   "metadata": {
    "ExecuteTime": {
     "end_time": "2019-04-11T03:29:12.631391Z",
     "start_time": "2019-04-11T03:29:12.627221Z"
    }
   },
   "outputs": [],
   "source": [
    "train_path=\"../../DATA/SWaT/SWaT_Physical/SWaT_Dataset_Normal_v0.csv\"\n",
    "test_path=\"../../DATA/SWaT/SWaT_Physical/SWaT_Dataset_Attack_v0.csv\""
   ]
  },
  {
   "cell_type": "code",
   "execution_count": 3,
   "metadata": {
    "ExecuteTime": {
     "end_time": "2019-04-11T03:29:17.944350Z",
     "start_time": "2019-04-11T03:29:13.986925Z"
    }
   },
   "outputs": [],
   "source": [
    "normal_data = pd.read_csv(train_path, index_col = 0)\n",
    "attack_data = pd.read_csv(test_path, index_col = 0)\n",
    "\n",
    "x_col = list(normal_data.columns)[:-1]\n",
    "y_col = list(normal_data.columns)[-1]\n",
    "\n",
    "X_normal = normal_data[x_col]\n",
    "Y_normal = normal_data[y_col]\n",
    "\n",
    "X_attack = attack_data[x_col]\n",
    "Y_attack = attack_data[y_col]\n",
    "\n"
   ]
  },
  {
   "cell_type": "code",
   "execution_count": 16,
   "metadata": {
    "ExecuteTime": {
     "end_time": "2019-04-16T05:07:31.534530Z",
     "start_time": "2019-04-16T05:07:31.517562Z"
    }
   },
   "outputs": [
    {
     "name": "stdout",
     "output_type": "stream",
     "text": [
      "[ 89984  89985  89986 ... 449916 449917 449918]\n",
      "[     0      1      2 ... 449916 449917 449918]\n",
      "[     0      1      2 ... 449916 449917 449918]\n",
      "[     0      1      2 ... 449916 449917 449918]\n",
      "[     0      1      2 ... 359933 359934 359935]\n"
     ]
    }
   ],
   "source": [
    "cv = KFold(5, shuffle=False, random_state=0)\n",
    "\n",
    "cv_list = []\n",
    "\n",
    "for i, (idx_train, idx_test) in enumerate(cv.split(attack_data)):\n",
    "    cv_list.append([idx_train, idx_test])\n"
   ]
  },
  {
   "cell_type": "code",
   "execution_count": null,
   "metadata": {},
   "outputs": [],
   "source": [
    "X_normal, Y_normal, X_attack, Y_attack, cv_list"
   ]
  },
  {
   "cell_type": "code",
   "execution_count": 33,
   "metadata": {
    "ExecuteTime": {
     "end_time": "2019-04-16T05:15:05.142370Z",
     "start_time": "2019-04-16T05:15:05.113851Z"
    },
    "code_folding": [
     0,
     17,
     36,
     59
    ]
   },
   "outputs": [],
   "source": [
    "def pca_return(x_train, x_test):\n",
    "    scaler = sklearn.preprocessing.StandardScaler(with_std = False)\n",
    "    scaler.fit(x_train)\n",
    "    \n",
    "    # train zero center about train data. For fairness test dataset scaled from x_train information\n",
    "    x_train = scaler.transform(x_train)\n",
    "    x_test = scaler.transform(x_test)\n",
    "\n",
    "    pca = PCA(n_components = np.shape(x_train)[1])\n",
    "    pca.fit(x_train)\n",
    "    \n",
    "    x_train = pca.transform(x_train)\n",
    "    x_test = pca.transform(x_test)\n",
    "    \n",
    "    return x_train, x_test\n",
    "\n",
    "\n",
    "def lstm_dataset(train_path, test_path):\n",
    "    x_train, y_train, x_test, y_test = base_dataset(train_path, test_path)\n",
    "\n",
    "    # SInce sklearn osvm property, set atk = -1, normal = 1\n",
    "    y_train[y_train == 'Attack'] = 1\n",
    "    y_train[y_train == 'Normal'] = 0\n",
    "    y_test[y_test == 'Attack'] = 1\n",
    "    y_test[y_test == 'Normal'] = 0\n",
    "    \n",
    "    y_train = torch.FloatTensor(y_train).cuda()\n",
    "    y_test = torch.FloatTensor(y_test).cuda()    \n",
    "    \n",
    "    x_train, x_test = pca_return(x_train, x_test)\n",
    "    \n",
    "    x_train = torch.FloatTensor(x_train).cuda()\n",
    "    x_test = torch.FloatTensor(x_test).cuda()\n",
    "    \n",
    "    return  x_train, x_test,  y_test\n",
    "\n",
    "def base_dataset(train_path, test_path, isprint = False):\n",
    "    #load data\n",
    "    normal_data = pd.read_csv(train_path, index_col = 0)\n",
    "    attack_data = pd.read_csv(test_path, index_col = 0)\n",
    "\n",
    "    x_col = list(normal_data.columns)[:-1]\n",
    "    y_col = list(normal_data.columns)[-1]\n",
    "\n",
    "    X_normal = normal_data[x_col]\n",
    "    Y_normal = normal_data[y_col]\n",
    "\n",
    "    X_attack = attack_data[x_col]\n",
    "    Y_attack = attack_data[y_col]\n",
    "    \n",
    "    if (isprint == True):\n",
    "        unique, counts = np.unique(Y_normal, return_counts=True)\n",
    "        print('In train :', dict(zip(unique, counts)))\n",
    "        unique, counts = np.unique(Y_attack, return_counts=True)\n",
    "        print('In test :', dict(zip(unique, counts)))     \n",
    "        print(\"data length is {}\".format(len(x_col)))\n",
    "    \n",
    "    return X_normal, Y_normal, X_attack, Y_attack\n",
    "\n",
    "def svm_dataset(train_path, test_path):\n",
    "    x_train, y_train, x_test, y_test = base_dataset(train_path, test_path)\n",
    "\n",
    "    # SInce sklearn osvm property, set atk = -1, normal = 1\n",
    "    y_train[y_train == 'Attack'] = -1\n",
    "    y_train[y_train == 'Normal'] = +1\n",
    "    y_test[y_test == 'Attack'] = -1\n",
    "    y_test[y_test == 'Normal'] = +1      \n",
    "\n",
    "    x_train, x_test = pca_return(x_train, x_test)\n",
    "\n",
    "    x_train = pd.DataFrame(data = x_train\n",
    "             , columns = ['PC%d'%(i) for i in range(np.shape(x_train)[1])])\n",
    "\n",
    "    x_test = pd.DataFrame(data = x_test\n",
    "             , columns = ['PC%d'%(i) for i in range(np.shape(x_train)[1])])\n",
    "\n",
    "    # Moving average Window\n",
    "    x_train = x_train.rolling(10, min_periods = 1).mean()\n",
    "    x_test = x_test.rolling(10, min_periods = 1).mean()\n",
    "\n",
    "    y_train = y_train.rolling(10, min_periods=1).apply(check)\n",
    "    y_test = y_test.rolling(10, min_periods=1).apply(check)\n",
    "\n",
    "\n",
    "    return  x_train.values, x_test.values,  y_test.values"
   ]
  },
  {
   "cell_type": "code",
   "execution_count": 28,
   "metadata": {
    "ExecuteTime": {
     "end_time": "2019-04-16T05:13:25.688693Z",
     "start_time": "2019-04-16T05:13:19.530928Z"
    }
   },
   "outputs": [],
   "source": [
    "x_train, x_test,  y_test    = lstm_dataset(train_path, test_path)"
   ]
  },
  {
   "cell_type": "code",
   "execution_count": 31,
   "metadata": {
    "ExecuteTime": {
     "end_time": "2019-04-16T05:13:52.347124Z",
     "start_time": "2019-04-16T05:13:52.342468Z"
    }
   },
   "outputs": [
    {
     "data": {
      "text/plain": [
       "torch.Size([359935, 51])"
      ]
     },
     "execution_count": 31,
     "metadata": {},
     "output_type": "execute_result"
    }
   ],
   "source": [
    "x_test[cv_list[0][0]].shape"
   ]
  },
  {
   "cell_type": "code",
   "execution_count": 32,
   "metadata": {
    "ExecuteTime": {
     "end_time": "2019-04-16T05:14:04.644209Z",
     "start_time": "2019-04-16T05:14:04.639929Z"
    }
   },
   "outputs": [
    {
     "data": {
      "text/plain": [
       "torch.Size([89984, 51])"
      ]
     },
     "execution_count": 32,
     "metadata": {},
     "output_type": "execute_result"
    }
   ],
   "source": [
    "x_test[cv_list[0][1]].shape"
   ]
  },
  {
   "cell_type": "code",
   "execution_count": 35,
   "metadata": {
    "ExecuteTime": {
     "end_time": "2019-04-16T05:15:28.673365Z",
     "start_time": "2019-04-16T05:15:28.670654Z"
    }
   },
   "outputs": [],
   "source": [
    "def check(data) :\n",
    "    if -1 in data :\n",
    "        return -1\n",
    "    else : \n",
    "        return 1"
   ]
  },
  {
   "cell_type": "code",
   "execution_count": 36,
   "metadata": {
    "ExecuteTime": {
     "end_time": "2019-04-16T05:15:40.867630Z",
     "start_time": "2019-04-16T05:15:31.423033Z"
    }
   },
   "outputs": [
    {
     "name": "stderr",
     "output_type": "stream",
     "text": [
      "/home/mjh319/anaconda3/envs/latest_3.6/lib/python3.6/site-packages/ipykernel_launcher.py:81: FutureWarning: Currently, 'apply' passes the values as ndarrays to the applied function. In the future, this will change to passing it as Series objects. You need to specify 'raw=True' to keep the current behaviour, and you can pass 'raw=False' to silence this warning\n",
      "/home/mjh319/anaconda3/envs/latest_3.6/lib/python3.6/site-packages/ipykernel_launcher.py:82: FutureWarning: Currently, 'apply' passes the values as ndarrays to the applied function. In the future, this will change to passing it as Series objects. You need to specify 'raw=True' to keep the current behaviour, and you can pass 'raw=False' to silence this warning\n"
     ]
    }
   ],
   "source": [
    "x_train, x_test,  y_test    = svm_dataset(train_path, test_path)"
   ]
  },
  {
   "cell_type": "code",
   "execution_count": 37,
   "metadata": {
    "ExecuteTime": {
     "end_time": "2019-04-16T05:16:57.635342Z",
     "start_time": "2019-04-16T05:16:57.542074Z"
    }
   },
   "outputs": [
    {
     "data": {
      "text/plain": [
       "(359935, 51)"
      ]
     },
     "execution_count": 37,
     "metadata": {},
     "output_type": "execute_result"
    }
   ],
   "source": [
    "x_test[cv_list[0][0]].shape"
   ]
  },
  {
   "cell_type": "code",
   "execution_count": 38,
   "metadata": {
    "ExecuteTime": {
     "end_time": "2019-04-16T05:17:03.953770Z",
     "start_time": "2019-04-16T05:17:03.937599Z"
    }
   },
   "outputs": [
    {
     "data": {
      "text/plain": [
       "(89984, 51)"
      ]
     },
     "execution_count": 38,
     "metadata": {},
     "output_type": "execute_result"
    }
   ],
   "source": [
    "x_test[cv_list[0][1]].shape"
   ]
  },
  {
   "cell_type": "code",
   "execution_count": null,
   "metadata": {},
   "outputs": [],
   "source": []
  },
  {
   "cell_type": "code",
   "execution_count": null,
   "metadata": {},
   "outputs": [],
   "source": []
  },
  {
   "cell_type": "code",
   "execution_count": 2,
   "metadata": {
    "ExecuteTime": {
     "end_time": "2019-04-16T06:22:44.221453Z",
     "start_time": "2019-04-16T06:22:44.174070Z"
    }
   },
   "outputs": [
    {
     "ename": "NameError",
     "evalue": "name 'precision_recall_curve' is not defined",
     "output_type": "error",
     "traceback": [
      "\u001b[0;31m---------------------------------------------------------------------------\u001b[0m",
      "\u001b[0;31mNameError\u001b[0m                                 Traceback (most recent call last)",
      "\u001b[0;32m<ipython-input-2-88467444b000>\u001b[0m in \u001b[0;36m<module>\u001b[0;34m()\u001b[0m\n\u001b[1;32m      1\u001b[0m \u001b[0my_true\u001b[0m \u001b[0;34m=\u001b[0m \u001b[0mnp\u001b[0m\u001b[0;34m.\u001b[0m\u001b[0marray\u001b[0m\u001b[0;34m(\u001b[0m\u001b[0;34m[\u001b[0m\u001b[0;36m0\u001b[0m\u001b[0;34m,\u001b[0m \u001b[0;36m0\u001b[0m\u001b[0;34m,\u001b[0m \u001b[0;36m1\u001b[0m\u001b[0;34m,\u001b[0m \u001b[0;36m1\u001b[0m\u001b[0;34m]\u001b[0m\u001b[0;34m)\u001b[0m\u001b[0;34m\u001b[0m\u001b[0;34m\u001b[0m\u001b[0m\n\u001b[1;32m      2\u001b[0m \u001b[0my_scores\u001b[0m \u001b[0;34m=\u001b[0m \u001b[0mnp\u001b[0m\u001b[0;34m.\u001b[0m\u001b[0marray\u001b[0m\u001b[0;34m(\u001b[0m\u001b[0;34m[\u001b[0m\u001b[0;36m0.1\u001b[0m\u001b[0;34m,\u001b[0m \u001b[0;36m0.4\u001b[0m\u001b[0;34m,\u001b[0m \u001b[0;36m0.35\u001b[0m\u001b[0;34m,\u001b[0m \u001b[0;36m0.8\u001b[0m\u001b[0;34m]\u001b[0m\u001b[0;34m)\u001b[0m\u001b[0;34m\u001b[0m\u001b[0;34m\u001b[0m\u001b[0m\n\u001b[0;32m----> 3\u001b[0;31m precision, recall, thresholds = precision_recall_curve(\n\u001b[0m\u001b[1;32m      4\u001b[0m   y_true, y_scores)\n",
      "\u001b[0;31mNameError\u001b[0m: name 'precision_recall_curve' is not defined"
     ]
    }
   ],
   "source": [
    "y_true = np.array([0, 0, 1, 1])\n",
    "y_scores = np.array([0.1, 0.4, 0.35, 0.8])\n",
    "precision, recall, thresholds = precision_recall_curve(\n",
    "  y_true, y_scores)"
   ]
  },
  {
   "cell_type": "code",
   "execution_count": 1,
   "metadata": {
    "ExecuteTime": {
     "end_time": "2019-04-16T06:22:40.461583Z",
     "start_time": "2019-04-16T06:22:40.454972Z"
    }
   },
   "outputs": [
    {
     "ename": "IndentationError",
     "evalue": "unexpected indent (<ipython-input-1-531f97ff8a9b>, line 5)",
     "output_type": "error",
     "traceback": [
      "\u001b[0;36m  File \u001b[0;32m\"<ipython-input-1-531f97ff8a9b>\"\u001b[0;36m, line \u001b[0;32m5\u001b[0m\n\u001b[0;31m    precision\u001b[0m\n\u001b[0m    ^\u001b[0m\n\u001b[0;31mIndentationError\u001b[0m\u001b[0;31m:\u001b[0m unexpected indent\n"
     ]
    }
   ],
   "source": [
    " precision  \n",
    "\n",
    " recall\n",
    "\n",
    "thresholds"
   ]
  },
  {
   "cell_type": "code",
   "execution_count": null,
   "metadata": {},
   "outputs": [],
   "source": []
  }
 ],
 "metadata": {
  "kernelspec": {
   "display_name": "Python 3",
   "language": "python",
   "name": "python3"
  },
  "language_info": {
   "codemirror_mode": {
    "name": "ipython",
    "version": 3
   },
   "file_extension": ".py",
   "mimetype": "text/x-python",
   "name": "python",
   "nbconvert_exporter": "python",
   "pygments_lexer": "ipython3",
   "version": "3.6.8"
  },
  "toc": {
   "base_numbering": 1,
   "nav_menu": {},
   "number_sections": true,
   "sideBar": true,
   "skip_h1_title": false,
   "title_cell": "Table of Contents",
   "title_sidebar": "Contents",
   "toc_cell": false,
   "toc_position": {},
   "toc_section_display": true,
   "toc_window_display": false
  },
  "varInspector": {
   "cols": {
    "lenName": 16,
    "lenType": 16,
    "lenVar": 40
   },
   "kernels_config": {
    "python": {
     "delete_cmd_postfix": "",
     "delete_cmd_prefix": "del ",
     "library": "var_list.py",
     "varRefreshCmd": "print(var_dic_list())"
    },
    "r": {
     "delete_cmd_postfix": ") ",
     "delete_cmd_prefix": "rm(",
     "library": "var_list.r",
     "varRefreshCmd": "cat(var_dic_list()) "
    }
   },
   "types_to_exclude": [
    "module",
    "function",
    "builtin_function_or_method",
    "instance",
    "_Feature"
   ],
   "window_display": false
  }
 },
 "nbformat": 4,
 "nbformat_minor": 2
}
